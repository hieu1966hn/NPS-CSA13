{
 "cells": [
  {
   "cell_type": "markdown",
   "id": "6859075e",
   "metadata": {},
   "source": [
    "# Buổi 9: Nhóm và sắp xếp dữ liệu\n",
    "- Biến đổi dữ liệu\n",
    "- Nhóm và sắp xếp dữ liệu\n",
    "- Xử lý các vấn đề với dữ liệu: thiếu dữ liệu, sai kiểu dữ liệu, trùng lặp dữ liệu, ...\n",
    "- Thực hành"
   ]
  },
  {
   "cell_type": "code",
   "execution_count": 65,
   "id": "a10d73e3",
   "metadata": {},
   "outputs": [
    {
     "name": "stdout",
     "output_type": "stream",
     "text": [
      "<class 'pandas.core.frame.DataFrame'>\n",
      "Index: 2640 entries, 1 to 2540\n",
      "Data columns (total 6 columns):\n",
      " #   Column               Non-Null Count  Dtype  \n",
      "---  ------               --------------  -----  \n",
      " 0   Name                 2640 non-null   object \n",
      " 1   Net Worth            2640 non-null   object \n",
      " 2   Age                  2576 non-null   float64\n",
      " 3   Country | Territory  2640 non-null   object \n",
      " 4   Source               2640 non-null   object \n",
      " 5   Industry             2640 non-null   object \n",
      "dtypes: float64(1), object(5)\n",
      "memory usage: 144.4+ KB\n"
     ]
    },
    {
     "data": {
      "application/vnd.microsoft.datawrangler.viewer.v0+json": {
       "columns": [
        {
         "name": "Rank",
         "rawType": "int64",
         "type": "integer"
        },
        {
         "name": "Name",
         "rawType": "object",
         "type": "string"
        },
        {
         "name": "Net Worth",
         "rawType": "float64",
         "type": "float"
        },
        {
         "name": "Age",
         "rawType": "Int64",
         "type": "integer"
        },
        {
         "name": "Country | Territory",
         "rawType": "object",
         "type": "string"
        },
        {
         "name": "Source",
         "rawType": "object",
         "type": "string"
        },
        {
         "name": "Industry",
         "rawType": "object",
         "type": "string"
        }
       ],
       "ref": "732f56c7-dcb4-4e0e-bd3f-21d163160719",
       "rows": [
        [
         "1",
         "Bernard Arnault & family",
         "211.0",
         "74",
         "France",
         "LVMH",
         "Fashion & Retail"
        ],
        [
         "2",
         "Elon Musk",
         "180.0",
         "51",
         "United States",
         "Tesla, SpaceX",
         "Automotive"
        ],
        [
         "3",
         "Jeff Bezos",
         "114.0",
         "59",
         "United States",
         "Amazon",
         "Technology"
        ],
        [
         "4",
         "Larry Ellison",
         "107.0",
         "78",
         "United States",
         "Oracle",
         "Technology"
        ],
        [
         "5",
         "Warren Buffett",
         "106.0",
         "92",
         "United States",
         "Berkshire Hathaway",
         "Finance & Investments"
        ]
       ],
       "shape": {
        "columns": 6,
        "rows": 5
       }
      },
      "text/html": [
       "<div>\n",
       "<style scoped>\n",
       "    .dataframe tbody tr th:only-of-type {\n",
       "        vertical-align: middle;\n",
       "    }\n",
       "\n",
       "    .dataframe tbody tr th {\n",
       "        vertical-align: top;\n",
       "    }\n",
       "\n",
       "    .dataframe thead th {\n",
       "        text-align: right;\n",
       "    }\n",
       "</style>\n",
       "<table border=\"1\" class=\"dataframe\">\n",
       "  <thead>\n",
       "    <tr style=\"text-align: right;\">\n",
       "      <th></th>\n",
       "      <th>Name</th>\n",
       "      <th>Net Worth</th>\n",
       "      <th>Age</th>\n",
       "      <th>Country | Territory</th>\n",
       "      <th>Source</th>\n",
       "      <th>Industry</th>\n",
       "    </tr>\n",
       "    <tr>\n",
       "      <th>Rank</th>\n",
       "      <th></th>\n",
       "      <th></th>\n",
       "      <th></th>\n",
       "      <th></th>\n",
       "      <th></th>\n",
       "      <th></th>\n",
       "    </tr>\n",
       "  </thead>\n",
       "  <tbody>\n",
       "    <tr>\n",
       "      <th>1</th>\n",
       "      <td>Bernard Arnault &amp; family</td>\n",
       "      <td>211.0</td>\n",
       "      <td>74</td>\n",
       "      <td>France</td>\n",
       "      <td>LVMH</td>\n",
       "      <td>Fashion &amp; Retail</td>\n",
       "    </tr>\n",
       "    <tr>\n",
       "      <th>2</th>\n",
       "      <td>Elon Musk</td>\n",
       "      <td>180.0</td>\n",
       "      <td>51</td>\n",
       "      <td>United States</td>\n",
       "      <td>Tesla, SpaceX</td>\n",
       "      <td>Automotive</td>\n",
       "    </tr>\n",
       "    <tr>\n",
       "      <th>3</th>\n",
       "      <td>Jeff Bezos</td>\n",
       "      <td>114.0</td>\n",
       "      <td>59</td>\n",
       "      <td>United States</td>\n",
       "      <td>Amazon</td>\n",
       "      <td>Technology</td>\n",
       "    </tr>\n",
       "    <tr>\n",
       "      <th>4</th>\n",
       "      <td>Larry Ellison</td>\n",
       "      <td>107.0</td>\n",
       "      <td>78</td>\n",
       "      <td>United States</td>\n",
       "      <td>Oracle</td>\n",
       "      <td>Technology</td>\n",
       "    </tr>\n",
       "    <tr>\n",
       "      <th>5</th>\n",
       "      <td>Warren Buffett</td>\n",
       "      <td>106.0</td>\n",
       "      <td>92</td>\n",
       "      <td>United States</td>\n",
       "      <td>Berkshire Hathaway</td>\n",
       "      <td>Finance &amp; Investments</td>\n",
       "    </tr>\n",
       "  </tbody>\n",
       "</table>\n",
       "</div>"
      ],
      "text/plain": [
       "                          Name  Net Worth  Age Country | Territory  \\\n",
       "Rank                                                                 \n",
       "1     Bernard Arnault & family      211.0   74              France   \n",
       "2                    Elon Musk      180.0   51       United States   \n",
       "3                   Jeff Bezos      114.0   59       United States   \n",
       "4                Larry Ellison      107.0   78       United States   \n",
       "5               Warren Buffett      106.0   92       United States   \n",
       "\n",
       "                  Source               Industry  \n",
       "Rank                                             \n",
       "1                   LVMH       Fashion & Retail  \n",
       "2          Tesla, SpaceX             Automotive  \n",
       "3                 Amazon             Technology  \n",
       "4                 Oracle             Technology  \n",
       "5     Berkshire Hathaway  Finance & Investments  "
      ]
     },
     "execution_count": 65,
     "metadata": {},
     "output_type": "execute_result"
    }
   ],
   "source": [
    "import pandas as pd\n",
    "\n",
    "def clean_networth(networth): # loại bỏ phần tử đầu - cuối: $ B\n",
    "    return networth[1:-1]\n",
    "    \n",
    "\n",
    "df = pd.read_csv('./Billionaires.csv', index_col=[0])\n",
    "df.info() # lấy thông tin dữ liệu\n",
    "\n",
    "df['Net Worth'] = df['Net Worth'].apply(clean_networth)\n",
    "df['Net Worth'] = pd.to_numeric(df['Net Worth']) # chuyển từ string => Float\n",
    "\n",
    "## Biến đổi dữ liệu cho cột age\n",
    "df['Age'] = df['Age'].astype('Int64')\n",
    "df.head()"
   ]
  },
  {
   "cell_type": "markdown",
   "id": "19292bb2",
   "metadata": {},
   "source": [
    "Biến đổi dữ liệu cột 'Net Worth' từ string => float"
   ]
  },
  {
   "cell_type": "markdown",
   "id": "b6e3c03b",
   "metadata": {},
   "source": [
    "Tổng tài sản lớn nhất của các tỉ phú nằm ở những lĩnh vực nào?"
   ]
  },
  {
   "cell_type": "code",
   "execution_count": 66,
   "id": "49a852ab",
   "metadata": {},
   "outputs": [
    {
     "data": {
      "application/vnd.microsoft.datawrangler.viewer.v0+json": {
       "columns": [
        {
         "name": "Industry",
         "rawType": "object",
         "type": "string"
        },
        {
         "name": "Net Worth",
         "rawType": "float64",
         "type": "float"
        }
       ],
       "ref": "6c7b2e74-cd16-474e-bdc9-e9450df4e8a3",
       "rows": [
        [
         "Technology",
         "1871.0"
        ],
        [
         "Fashion & Retail",
         "1698.8"
        ],
        [
         "Finance & Investments",
         "1605.1"
        ],
        [
         "Manufacturing",
         "1025.9"
        ],
        [
         "Food & Beverage",
         "957.2"
        ],
        [
         "Diversified",
         "905.2"
        ],
        [
         "Real Estate",
         "657.4"
        ],
        [
         "Healthcare",
         "643.2"
        ],
        [
         "Automotive",
         "525.3"
        ],
        [
         "Energy",
         "453.5"
        ],
        [
         "Metals & Mining",
         "446.8"
        ],
        [
         "Media & Entertainment",
         "427.5"
        ],
        [
         "Logistics",
         "239.5"
        ],
        [
         "Telecom",
         "203.5"
        ],
        [
         "Service",
         "173.4"
        ],
        [
         "Sports",
         "134.5"
        ],
        [
         "Gambling & Casinos",
         "120.5"
        ],
        [
         "Construction & Engineering",
         "118.5"
        ]
       ],
       "shape": {
        "columns": 1,
        "rows": 18
       }
      },
      "text/html": [
       "<div>\n",
       "<style scoped>\n",
       "    .dataframe tbody tr th:only-of-type {\n",
       "        vertical-align: middle;\n",
       "    }\n",
       "\n",
       "    .dataframe tbody tr th {\n",
       "        vertical-align: top;\n",
       "    }\n",
       "\n",
       "    .dataframe thead th {\n",
       "        text-align: right;\n",
       "    }\n",
       "</style>\n",
       "<table border=\"1\" class=\"dataframe\">\n",
       "  <thead>\n",
       "    <tr style=\"text-align: right;\">\n",
       "      <th></th>\n",
       "      <th>Net Worth</th>\n",
       "    </tr>\n",
       "    <tr>\n",
       "      <th>Industry</th>\n",
       "      <th></th>\n",
       "    </tr>\n",
       "  </thead>\n",
       "  <tbody>\n",
       "    <tr>\n",
       "      <th>Technology</th>\n",
       "      <td>1871.0</td>\n",
       "    </tr>\n",
       "    <tr>\n",
       "      <th>Fashion &amp; Retail</th>\n",
       "      <td>1698.8</td>\n",
       "    </tr>\n",
       "    <tr>\n",
       "      <th>Finance &amp; Investments</th>\n",
       "      <td>1605.1</td>\n",
       "    </tr>\n",
       "    <tr>\n",
       "      <th>Manufacturing</th>\n",
       "      <td>1025.9</td>\n",
       "    </tr>\n",
       "    <tr>\n",
       "      <th>Food &amp; Beverage</th>\n",
       "      <td>957.2</td>\n",
       "    </tr>\n",
       "    <tr>\n",
       "      <th>Diversified</th>\n",
       "      <td>905.2</td>\n",
       "    </tr>\n",
       "    <tr>\n",
       "      <th>Real Estate</th>\n",
       "      <td>657.4</td>\n",
       "    </tr>\n",
       "    <tr>\n",
       "      <th>Healthcare</th>\n",
       "      <td>643.2</td>\n",
       "    </tr>\n",
       "    <tr>\n",
       "      <th>Automotive</th>\n",
       "      <td>525.3</td>\n",
       "    </tr>\n",
       "    <tr>\n",
       "      <th>Energy</th>\n",
       "      <td>453.5</td>\n",
       "    </tr>\n",
       "    <tr>\n",
       "      <th>Metals &amp; Mining</th>\n",
       "      <td>446.8</td>\n",
       "    </tr>\n",
       "    <tr>\n",
       "      <th>Media &amp; Entertainment</th>\n",
       "      <td>427.5</td>\n",
       "    </tr>\n",
       "    <tr>\n",
       "      <th>Logistics</th>\n",
       "      <td>239.5</td>\n",
       "    </tr>\n",
       "    <tr>\n",
       "      <th>Telecom</th>\n",
       "      <td>203.5</td>\n",
       "    </tr>\n",
       "    <tr>\n",
       "      <th>Service</th>\n",
       "      <td>173.4</td>\n",
       "    </tr>\n",
       "    <tr>\n",
       "      <th>Sports</th>\n",
       "      <td>134.5</td>\n",
       "    </tr>\n",
       "    <tr>\n",
       "      <th>Gambling &amp; Casinos</th>\n",
       "      <td>120.5</td>\n",
       "    </tr>\n",
       "    <tr>\n",
       "      <th>Construction &amp; Engineering</th>\n",
       "      <td>118.5</td>\n",
       "    </tr>\n",
       "  </tbody>\n",
       "</table>\n",
       "</div>"
      ],
      "text/plain": [
       "                            Net Worth\n",
       "Industry                             \n",
       "Technology                     1871.0\n",
       "Fashion & Retail               1698.8\n",
       "Finance & Investments          1605.1\n",
       "Manufacturing                  1025.9\n",
       "Food & Beverage                 957.2\n",
       "Diversified                     905.2\n",
       "Real Estate                     657.4\n",
       "Healthcare                      643.2\n",
       "Automotive                      525.3\n",
       "Energy                          453.5\n",
       "Metals & Mining                 446.8\n",
       "Media & Entertainment           427.5\n",
       "Logistics                       239.5\n",
       "Telecom                         203.5\n",
       "Service                         173.4\n",
       "Sports                          134.5\n",
       "Gambling & Casinos              120.5\n",
       "Construction & Engineering      118.5"
      ]
     },
     "execution_count": 66,
     "metadata": {},
     "output_type": "execute_result"
    }
   ],
   "source": [
    "df_industry = df[['Industry', 'Net Worth']].groupby('Industry').sum() # trả về đối tượng DF Groupby\n",
    "# Sx theo thứ tự \n",
    "df_industry = df_industry.sort_values(by='Net Worth', ascending=False) # từ lớn => nhỏ (ngược lại là true)\n",
    "df_industry\n"
   ]
  },
  {
   "cell_type": "markdown",
   "id": "b54da2a8",
   "metadata": {},
   "source": [
    "Thực hành: Tính trung bình tài sản các tỷ phú theo châu lục\n",
    "- Chưa có cột châu lục?\n",
    "- Cần biến đổi từ cột: Country | Territory\n",
    "- Sử dụng thư viện và hàm hỗ trợ để tạo cột \"Continent\""
   ]
  },
  {
   "cell_type": "code",
   "execution_count": 67,
   "id": "66e99f65",
   "metadata": {},
   "outputs": [
    {
     "name": "stdout",
     "output_type": "stream",
     "text": [
      "Eswatini (Swaziland)\n"
     ]
    },
    {
     "data": {
      "application/vnd.microsoft.datawrangler.viewer.v0+json": {
       "columns": [
        {
         "name": "Continent",
         "rawType": "object",
         "type": "string"
        },
        {
         "name": "Net Worth",
         "rawType": "float64",
         "type": "float"
        }
       ],
       "ref": "37f8c436-1b53-4bbb-bc9a-2b42d77ee1b6",
       "rows": [
        [
         "Africa",
         "4.421052631578948"
        ],
        [
         "Asia",
         "3.5470643056849953"
        ],
        [
         "Europe",
         "4.85327868852459"
        ],
        [
         "North America",
         "6.025276073619632"
        ],
        [
         "Oceania",
         "3.924"
        ],
        [
         "South America",
         "3.375"
        ],
        [
         "unknown",
         "6.5"
        ]
       ],
       "shape": {
        "columns": 1,
        "rows": 7
       }
      },
      "text/html": [
       "<div>\n",
       "<style scoped>\n",
       "    .dataframe tbody tr th:only-of-type {\n",
       "        vertical-align: middle;\n",
       "    }\n",
       "\n",
       "    .dataframe tbody tr th {\n",
       "        vertical-align: top;\n",
       "    }\n",
       "\n",
       "    .dataframe thead th {\n",
       "        text-align: right;\n",
       "    }\n",
       "</style>\n",
       "<table border=\"1\" class=\"dataframe\">\n",
       "  <thead>\n",
       "    <tr style=\"text-align: right;\">\n",
       "      <th></th>\n",
       "      <th>Net Worth</th>\n",
       "    </tr>\n",
       "    <tr>\n",
       "      <th>Continent</th>\n",
       "      <th></th>\n",
       "    </tr>\n",
       "  </thead>\n",
       "  <tbody>\n",
       "    <tr>\n",
       "      <th>Africa</th>\n",
       "      <td>4.421053</td>\n",
       "    </tr>\n",
       "    <tr>\n",
       "      <th>Asia</th>\n",
       "      <td>3.547064</td>\n",
       "    </tr>\n",
       "    <tr>\n",
       "      <th>Europe</th>\n",
       "      <td>4.853279</td>\n",
       "    </tr>\n",
       "    <tr>\n",
       "      <th>North America</th>\n",
       "      <td>6.025276</td>\n",
       "    </tr>\n",
       "    <tr>\n",
       "      <th>Oceania</th>\n",
       "      <td>3.924000</td>\n",
       "    </tr>\n",
       "    <tr>\n",
       "      <th>South America</th>\n",
       "      <td>3.375000</td>\n",
       "    </tr>\n",
       "    <tr>\n",
       "      <th>unknown</th>\n",
       "      <td>6.500000</td>\n",
       "    </tr>\n",
       "  </tbody>\n",
       "</table>\n",
       "</div>"
      ],
      "text/plain": [
       "               Net Worth\n",
       "Continent               \n",
       "Africa          4.421053\n",
       "Asia            3.547064\n",
       "Europe          4.853279\n",
       "North America   6.025276\n",
       "Oceania         3.924000\n",
       "South America   3.375000\n",
       "unknown         6.500000"
      ]
     },
     "execution_count": 67,
     "metadata": {},
     "output_type": "execute_result"
    }
   ],
   "source": [
    "import pycountry_convert as pc\n",
    "\n",
    "def get_continent(country_name):\n",
    "    try:\n",
    "        country_code = pc.country_name_to_country_alpha2(country_name)\n",
    "        continent_code = pc.country_alpha2_to_continent_code(country_code)\n",
    "        continent_name = pc.convert_continent_code_to_continent_name(continent_code)\n",
    "        return continent_name\n",
    "    except:\n",
    "        print(country_name)\n",
    "        return 'unknown'\n",
    "    \n",
    "\n",
    "df['Continent'] = df['Country | Territory'].apply(get_continent)\n",
    "\n",
    "## Chỉ show 2 cột cần thôi\n",
    "df[['Net Worth', 'Continent']].groupby(\"Continent\").mean()\n",
    "\n",
    "## Nếu muốn tìm ra cái không xác định\n",
    "# df[df['Continent'] == 'unknown']"
   ]
  },
  {
   "cell_type": "markdown",
   "id": "7a352e53",
   "metadata": {},
   "source": [
    "# 4. Làm sạch dữ liệu"
   ]
  },
  {
   "cell_type": "code",
   "execution_count": 68,
   "id": "de4df0f6",
   "metadata": {},
   "outputs": [
    {
     "data": {
      "application/vnd.microsoft.datawrangler.viewer.v0+json": {
       "columns": [
        {
         "name": "index",
         "rawType": "object",
         "type": "string"
        },
        {
         "name": "0",
         "rawType": "int64",
         "type": "integer"
        }
       ],
       "ref": "e7c29a59-c085-4b42-bb4d-b5137e37e9b1",
       "rows": [
        [
         "number",
         "0"
        ],
        [
         "name",
         "0"
        ],
        [
         "position",
         "0"
        ],
        [
         "games_played",
         "0"
        ],
        [
         "goals",
         "10"
        ],
        [
         "assists",
         "0"
        ],
        [
         "PIM",
         "0"
        ],
        [
         "birthdate",
         "0"
        ],
        [
         "age",
         "0"
        ],
        [
         "birthplace",
         "2"
        ],
        [
         "weight",
         "11"
        ],
        [
         "height",
         "1"
        ]
       ],
       "shape": {
        "columns": 1,
        "rows": 12
       }
      },
      "text/plain": [
       "number           0\n",
       "name             0\n",
       "position         0\n",
       "games_played     0\n",
       "goals           10\n",
       "assists          0\n",
       "PIM              0\n",
       "birthdate        0\n",
       "age              0\n",
       "birthplace       2\n",
       "weight          11\n",
       "height           1\n",
       "dtype: int64"
      ]
     },
     "execution_count": 68,
     "metadata": {},
     "output_type": "execute_result"
    }
   ],
   "source": [
    "df = pd.read_csv(\"./hockey_players_data.csv\")\n",
    "# df.head(10)\n",
    "# df.tail()\n",
    "\n",
    "# Tìm các giá trị bị khuyết (NaN) và đếm\n",
    "df.isnull().sum()\n"
   ]
  },
  {
   "cell_type": "code",
   "execution_count": 69,
   "id": "aad74c4c",
   "metadata": {},
   "outputs": [
    {
     "data": {
      "application/vnd.microsoft.datawrangler.viewer.v0+json": {
       "columns": [
        {
         "name": "index",
         "rawType": "int64",
         "type": "integer"
        },
        {
         "name": "number",
         "rawType": "int64",
         "type": "integer"
        },
        {
         "name": "name",
         "rawType": "object",
         "type": "string"
        },
        {
         "name": "position",
         "rawType": "object",
         "type": "string"
        },
        {
         "name": "games_played",
         "rawType": "int64",
         "type": "integer"
        },
        {
         "name": "goals",
         "rawType": "float64",
         "type": "float"
        },
        {
         "name": "assists",
         "rawType": "int64",
         "type": "integer"
        },
        {
         "name": "PIM",
         "rawType": "int64",
         "type": "integer"
        },
        {
         "name": "age",
         "rawType": "int64",
         "type": "integer"
        },
        {
         "name": "height",
         "rawType": "float64",
         "type": "float"
        }
       ],
       "ref": "e21a790d-bb7a-43a6-9fa0-e1d884200188",
       "rows": [
        [
         "4",
         "67",
         "Emma Woods",
         "F",
         "6",
         null,
         "4",
         "0",
         "24",
         "5.04"
        ],
        [
         "6",
         "27",
         "Amy Curlew",
         "F",
         "6",
         null,
         "2",
         "4",
         "23",
         "5.07"
        ],
        [
         "10",
         "27",
         "Shiann Darkangelo",
         "F",
         "6",
         null,
         "3",
         "0",
         "22",
         "5.08"
        ],
        [
         "15",
         "25",
         "Emma Greco",
         "D",
         "6",
         null,
         "0",
         "0",
         "22",
         "5.08"
        ],
        [
         "16",
         "15",
         "Natalie Marcuzzi",
         "F",
         "6",
         null,
         "0",
         "0",
         "27",
         "5.08"
        ],
        [
         "17",
         "91",
         "Jenna McParland",
         "F",
         "6",
         null,
         "0",
         "0",
         "33",
         "5.08"
        ],
        [
         "18",
         "91",
         "Henna McParland",
         "M",
         "5",
         null,
         "0",
         "0",
         "33",
         "5.08"
        ],
        [
         "19",
         "27",
         "Kristen Barbara",
         "D",
         "6",
         null,
         "0",
         "0",
         "26",
         "5.1"
        ],
        [
         "20",
         "29",
         "Julie Allen",
         "F",
         "6",
         null,
         "0",
         "0",
         "26",
         "5.07"
        ],
        [
         "21",
         "34",
         "Elaine Chuli",
         "G",
         "6",
         null,
         "0",
         "0",
         "24",
         "5.11"
        ]
       ],
       "shape": {
        "columns": 9,
        "rows": 10
       }
      },
      "text/html": [
       "<div>\n",
       "<style scoped>\n",
       "    .dataframe tbody tr th:only-of-type {\n",
       "        vertical-align: middle;\n",
       "    }\n",
       "\n",
       "    .dataframe tbody tr th {\n",
       "        vertical-align: top;\n",
       "    }\n",
       "\n",
       "    .dataframe thead th {\n",
       "        text-align: right;\n",
       "    }\n",
       "</style>\n",
       "<table border=\"1\" class=\"dataframe\">\n",
       "  <thead>\n",
       "    <tr style=\"text-align: right;\">\n",
       "      <th></th>\n",
       "      <th>number</th>\n",
       "      <th>name</th>\n",
       "      <th>position</th>\n",
       "      <th>games_played</th>\n",
       "      <th>goals</th>\n",
       "      <th>assists</th>\n",
       "      <th>PIM</th>\n",
       "      <th>age</th>\n",
       "      <th>height</th>\n",
       "    </tr>\n",
       "  </thead>\n",
       "  <tbody>\n",
       "    <tr>\n",
       "      <th>4</th>\n",
       "      <td>67</td>\n",
       "      <td>Emma Woods</td>\n",
       "      <td>F</td>\n",
       "      <td>6</td>\n",
       "      <td>NaN</td>\n",
       "      <td>4</td>\n",
       "      <td>0</td>\n",
       "      <td>24</td>\n",
       "      <td>5.04</td>\n",
       "    </tr>\n",
       "    <tr>\n",
       "      <th>6</th>\n",
       "      <td>27</td>\n",
       "      <td>Amy Curlew</td>\n",
       "      <td>F</td>\n",
       "      <td>6</td>\n",
       "      <td>NaN</td>\n",
       "      <td>2</td>\n",
       "      <td>4</td>\n",
       "      <td>23</td>\n",
       "      <td>5.07</td>\n",
       "    </tr>\n",
       "    <tr>\n",
       "      <th>10</th>\n",
       "      <td>27</td>\n",
       "      <td>Shiann Darkangelo</td>\n",
       "      <td>F</td>\n",
       "      <td>6</td>\n",
       "      <td>NaN</td>\n",
       "      <td>3</td>\n",
       "      <td>0</td>\n",
       "      <td>22</td>\n",
       "      <td>5.08</td>\n",
       "    </tr>\n",
       "    <tr>\n",
       "      <th>15</th>\n",
       "      <td>25</td>\n",
       "      <td>Emma Greco</td>\n",
       "      <td>D</td>\n",
       "      <td>6</td>\n",
       "      <td>NaN</td>\n",
       "      <td>0</td>\n",
       "      <td>0</td>\n",
       "      <td>22</td>\n",
       "      <td>5.08</td>\n",
       "    </tr>\n",
       "    <tr>\n",
       "      <th>16</th>\n",
       "      <td>15</td>\n",
       "      <td>Natalie Marcuzzi</td>\n",
       "      <td>F</td>\n",
       "      <td>6</td>\n",
       "      <td>NaN</td>\n",
       "      <td>0</td>\n",
       "      <td>0</td>\n",
       "      <td>27</td>\n",
       "      <td>5.08</td>\n",
       "    </tr>\n",
       "    <tr>\n",
       "      <th>17</th>\n",
       "      <td>91</td>\n",
       "      <td>Jenna McParland</td>\n",
       "      <td>F</td>\n",
       "      <td>6</td>\n",
       "      <td>NaN</td>\n",
       "      <td>0</td>\n",
       "      <td>0</td>\n",
       "      <td>33</td>\n",
       "      <td>5.08</td>\n",
       "    </tr>\n",
       "    <tr>\n",
       "      <th>18</th>\n",
       "      <td>91</td>\n",
       "      <td>Henna McParland</td>\n",
       "      <td>M</td>\n",
       "      <td>5</td>\n",
       "      <td>NaN</td>\n",
       "      <td>0</td>\n",
       "      <td>0</td>\n",
       "      <td>33</td>\n",
       "      <td>5.08</td>\n",
       "    </tr>\n",
       "    <tr>\n",
       "      <th>19</th>\n",
       "      <td>27</td>\n",
       "      <td>Kristen Barbara</td>\n",
       "      <td>D</td>\n",
       "      <td>6</td>\n",
       "      <td>NaN</td>\n",
       "      <td>0</td>\n",
       "      <td>0</td>\n",
       "      <td>26</td>\n",
       "      <td>5.10</td>\n",
       "    </tr>\n",
       "    <tr>\n",
       "      <th>20</th>\n",
       "      <td>29</td>\n",
       "      <td>Julie Allen</td>\n",
       "      <td>F</td>\n",
       "      <td>6</td>\n",
       "      <td>NaN</td>\n",
       "      <td>0</td>\n",
       "      <td>0</td>\n",
       "      <td>26</td>\n",
       "      <td>5.07</td>\n",
       "    </tr>\n",
       "    <tr>\n",
       "      <th>21</th>\n",
       "      <td>34</td>\n",
       "      <td>Elaine Chuli</td>\n",
       "      <td>G</td>\n",
       "      <td>6</td>\n",
       "      <td>NaN</td>\n",
       "      <td>0</td>\n",
       "      <td>0</td>\n",
       "      <td>24</td>\n",
       "      <td>5.11</td>\n",
       "    </tr>\n",
       "  </tbody>\n",
       "</table>\n",
       "</div>"
      ],
      "text/plain": [
       "    number               name position  games_played  goals  assists  PIM  \\\n",
       "4       67         Emma Woods        F             6    NaN        4    0   \n",
       "6       27         Amy Curlew        F             6    NaN        2    4   \n",
       "10      27  Shiann Darkangelo        F             6    NaN        3    0   \n",
       "15      25         Emma Greco        D             6    NaN        0    0   \n",
       "16      15   Natalie Marcuzzi        F             6    NaN        0    0   \n",
       "17      91    Jenna McParland        F             6    NaN        0    0   \n",
       "18      91    Henna McParland        M             5    NaN        0    0   \n",
       "19      27    Kristen Barbara        D             6    NaN        0    0   \n",
       "20      29        Julie Allen        F             6    NaN        0    0   \n",
       "21      34       Elaine Chuli        G             6    NaN        0    0   \n",
       "\n",
       "    age  height  \n",
       "4    24    5.04  \n",
       "6    23    5.07  \n",
       "10   22    5.08  \n",
       "15   22    5.08  \n",
       "16   27    5.08  \n",
       "17   33    5.08  \n",
       "18   33    5.08  \n",
       "19   26    5.10  \n",
       "20   26    5.07  \n",
       "21   24    5.11  "
      ]
     },
     "execution_count": 69,
     "metadata": {},
     "output_type": "execute_result"
    }
   ],
   "source": [
    "# Xử lý giá trị bị khuyết\n",
    "# df.dropna() (Hạn chế dùng thôi)\n",
    "\n",
    "\n",
    "###### Drop các cột không cần thiết\n",
    "df.drop(['birthdate', 'birthplace', 'weight'], axis=1, inplace=True)\n",
    "df\n",
    "\n",
    "\n",
    "#### Lọc hàng và kiểm tra được cầu thủ nào bị thiếu 'goals'\n",
    "df[df.goals.isna()]\n"
   ]
  },
  {
   "cell_type": "code",
   "execution_count": 70,
   "id": "afb6f9ac",
   "metadata": {},
   "outputs": [
    {
     "data": {
      "application/vnd.microsoft.datawrangler.viewer.v0+json": {
       "columns": [
        {
         "name": "index",
         "rawType": "int64",
         "type": "integer"
        },
        {
         "name": "number",
         "rawType": "int64",
         "type": "integer"
        },
        {
         "name": "name",
         "rawType": "object",
         "type": "string"
        },
        {
         "name": "position",
         "rawType": "object",
         "type": "string"
        },
        {
         "name": "games_played",
         "rawType": "int64",
         "type": "integer"
        },
        {
         "name": "goals",
         "rawType": "float64",
         "type": "float"
        },
        {
         "name": "assists",
         "rawType": "int64",
         "type": "integer"
        },
        {
         "name": "PIM",
         "rawType": "int64",
         "type": "integer"
        },
        {
         "name": "age",
         "rawType": "int64",
         "type": "integer"
        },
        {
         "name": "height",
         "rawType": "float64",
         "type": "float"
        }
       ],
       "ref": "374671d7-128b-4ad6-9cff-c7a4f9e9d1f5",
       "rows": [
        [
         "17",
         "91",
         "Jenna McParland",
         "F",
         "6",
         "0.0",
         "0",
         "0",
         "33",
         "5.08"
        ],
        [
         "18",
         "91",
         "Henna McParland",
         "M",
         "5",
         "0.0",
         "0",
         "0",
         "33",
         "5.08"
        ],
        [
         "19",
         "27",
         "Kristen Barbara",
         "D",
         "6",
         "0.0",
         "0",
         "0",
         "26",
         "5.1"
        ],
        [
         "20",
         "29",
         "Julie Allen",
         "F",
         "6",
         "0.0",
         "0",
         "0",
         "26",
         "5.07"
        ],
        [
         "21",
         "34",
         "Elaine Chuli",
         "G",
         "6",
         "0.0",
         "0",
         "0",
         "24",
         "5.11"
        ]
       ],
       "shape": {
        "columns": 9,
        "rows": 5
       }
      },
      "text/html": [
       "<div>\n",
       "<style scoped>\n",
       "    .dataframe tbody tr th:only-of-type {\n",
       "        vertical-align: middle;\n",
       "    }\n",
       "\n",
       "    .dataframe tbody tr th {\n",
       "        vertical-align: top;\n",
       "    }\n",
       "\n",
       "    .dataframe thead th {\n",
       "        text-align: right;\n",
       "    }\n",
       "</style>\n",
       "<table border=\"1\" class=\"dataframe\">\n",
       "  <thead>\n",
       "    <tr style=\"text-align: right;\">\n",
       "      <th></th>\n",
       "      <th>number</th>\n",
       "      <th>name</th>\n",
       "      <th>position</th>\n",
       "      <th>games_played</th>\n",
       "      <th>goals</th>\n",
       "      <th>assists</th>\n",
       "      <th>PIM</th>\n",
       "      <th>age</th>\n",
       "      <th>height</th>\n",
       "    </tr>\n",
       "  </thead>\n",
       "  <tbody>\n",
       "    <tr>\n",
       "      <th>17</th>\n",
       "      <td>91</td>\n",
       "      <td>Jenna McParland</td>\n",
       "      <td>F</td>\n",
       "      <td>6</td>\n",
       "      <td>0.0</td>\n",
       "      <td>0</td>\n",
       "      <td>0</td>\n",
       "      <td>33</td>\n",
       "      <td>5.08</td>\n",
       "    </tr>\n",
       "    <tr>\n",
       "      <th>18</th>\n",
       "      <td>91</td>\n",
       "      <td>Henna McParland</td>\n",
       "      <td>M</td>\n",
       "      <td>5</td>\n",
       "      <td>0.0</td>\n",
       "      <td>0</td>\n",
       "      <td>0</td>\n",
       "      <td>33</td>\n",
       "      <td>5.08</td>\n",
       "    </tr>\n",
       "    <tr>\n",
       "      <th>19</th>\n",
       "      <td>27</td>\n",
       "      <td>Kristen Barbara</td>\n",
       "      <td>D</td>\n",
       "      <td>6</td>\n",
       "      <td>0.0</td>\n",
       "      <td>0</td>\n",
       "      <td>0</td>\n",
       "      <td>26</td>\n",
       "      <td>5.10</td>\n",
       "    </tr>\n",
       "    <tr>\n",
       "      <th>20</th>\n",
       "      <td>29</td>\n",
       "      <td>Julie Allen</td>\n",
       "      <td>F</td>\n",
       "      <td>6</td>\n",
       "      <td>0.0</td>\n",
       "      <td>0</td>\n",
       "      <td>0</td>\n",
       "      <td>26</td>\n",
       "      <td>5.07</td>\n",
       "    </tr>\n",
       "    <tr>\n",
       "      <th>21</th>\n",
       "      <td>34</td>\n",
       "      <td>Elaine Chuli</td>\n",
       "      <td>G</td>\n",
       "      <td>6</td>\n",
       "      <td>0.0</td>\n",
       "      <td>0</td>\n",
       "      <td>0</td>\n",
       "      <td>24</td>\n",
       "      <td>5.11</td>\n",
       "    </tr>\n",
       "  </tbody>\n",
       "</table>\n",
       "</div>"
      ],
      "text/plain": [
       "    number             name position  games_played  goals  assists  PIM  age  \\\n",
       "17      91  Jenna McParland        F             6    0.0        0    0   33   \n",
       "18      91  Henna McParland        M             5    0.0        0    0   33   \n",
       "19      27  Kristen Barbara        D             6    0.0        0    0   26   \n",
       "20      29      Julie Allen        F             6    0.0        0    0   26   \n",
       "21      34     Elaine Chuli        G             6    0.0        0    0   24   \n",
       "\n",
       "    height  \n",
       "17    5.08  \n",
       "18    5.08  \n",
       "19    5.10  \n",
       "20    5.07  \n",
       "21    5.11  "
      ]
     },
     "execution_count": 70,
     "metadata": {},
     "output_type": "execute_result"
    }
   ],
   "source": [
    "## Thay thế các giá trị NaN thành một giá trị mặc định bằng: \n",
    "df.goals = df.goals.fillna(0)\n",
    "df.tail()"
   ]
  },
  {
   "cell_type": "code",
   "execution_count": 71,
   "id": "38705414",
   "metadata": {},
   "outputs": [
    {
     "data": {
      "application/vnd.microsoft.datawrangler.viewer.v0+json": {
       "columns": [
        {
         "name": "index",
         "rawType": "object",
         "type": "string"
        },
        {
         "name": "0",
         "rawType": "object",
         "type": "unknown"
        }
       ],
       "ref": "4ad094f8-435f-45ce-970b-fec44f38aaf5",
       "rows": [
        [
         "number",
         "int64"
        ],
        [
         "name",
         "object"
        ],
        [
         "position",
         "object"
        ],
        [
         "games_played",
         "int64"
        ],
        [
         "goals",
         "float64"
        ],
        [
         "assists",
         "int64"
        ],
        [
         "PIM",
         "int64"
        ],
        [
         "age",
         "int64"
        ],
        [
         "height",
         "float64"
        ]
       ],
       "shape": {
        "columns": 1,
        "rows": 9
       }
      },
      "text/plain": [
       "number            int64\n",
       "name             object\n",
       "position         object\n",
       "games_played      int64\n",
       "goals           float64\n",
       "assists           int64\n",
       "PIM               int64\n",
       "age               int64\n",
       "height          float64\n",
       "dtype: object"
      ]
     },
     "execution_count": 71,
     "metadata": {},
     "output_type": "execute_result"
    }
   ],
   "source": [
    "### Kiểm tra lại kiểu dữ liệu các cột đang là gì?\n",
    "# df.dtypes\n",
    "\n",
    "df.age = df.age.astype(\"int\") # thay đổi từ float => int\n",
    "## Do chiều cao đang là dạng chuỗi => ép kiểu về float\n",
    "df.height = pd.to_numeric(df.height)\n",
    "\n",
    "\n",
    "df.dtypes"
   ]
  },
  {
   "cell_type": "code",
   "execution_count": 72,
   "id": "6118a82c",
   "metadata": {},
   "outputs": [
    {
     "data": {
      "text/plain": [
       "np.int64(0)"
      ]
     },
     "execution_count": 72,
     "metadata": {},
     "output_type": "execute_result"
    }
   ],
   "source": [
    "### Xử lý hàng bị trùng\n",
    "df.duplicated().sum() # 1\n",
    "\n",
    "\n",
    "## Loại bỏ hàng bị trùng\n",
    "df = df.drop_duplicates()\n",
    "df.duplicated().sum() # 0"
   ]
  },
  {
   "cell_type": "code",
   "execution_count": 74,
   "id": "62a4f651",
   "metadata": {},
   "outputs": [
    {
     "data": {
      "application/vnd.microsoft.datawrangler.viewer.v0+json": {
       "columns": [
        {
         "name": "index",
         "rawType": "int64",
         "type": "integer"
        },
        {
         "name": "number",
         "rawType": "int64",
         "type": "integer"
        },
        {
         "name": "name",
         "rawType": "object",
         "type": "string"
        },
        {
         "name": "position",
         "rawType": "object",
         "type": "string"
        },
        {
         "name": "games_played",
         "rawType": "int64",
         "type": "integer"
        },
        {
         "name": "goals",
         "rawType": "float64",
         "type": "float"
        },
        {
         "name": "assists",
         "rawType": "int64",
         "type": "integer"
        },
        {
         "name": "PIM",
         "rawType": "int64",
         "type": "integer"
        },
        {
         "name": "age",
         "rawType": "int64",
         "type": "integer"
        },
        {
         "name": "height",
         "rawType": "float64",
         "type": "float"
        }
       ],
       "ref": "0e121f0d-5fe2-48a4-be09-7c709339bf88",
       "rows": [
        [
         "0",
         "13",
         "Mikyla Grant-Mentis",
         "F",
         "6",
         "5.0",
         "4",
         "4",
         "22",
         "5.08"
        ],
        [
         "1",
         "44",
         "Lindsay Eastwood",
         "D",
         "6",
         "4.0",
         "5",
         "10",
         "23",
         "5.08"
        ],
        [
         "2",
         "2",
         "Taylor Woods",
         "F",
         "6",
         "4.0",
         "4",
         "4",
         "26",
         "5.04"
        ],
        [
         "3",
         "19",
         "Brooke Boquist",
         "F",
         "6",
         "2.0",
         "2",
         "2",
         "24",
         "5.03"
        ],
        [
         "4",
         "67",
         "Emma Woods",
         "F",
         "6",
         "0.0",
         "4",
         "0",
         "24",
         "5.04"
        ],
        [
         "5",
         "21",
         "Breanne Wilson-Bennett",
         "F",
         "6",
         "2.0",
         "4",
         "2",
         "24",
         "5.03"
        ],
        [
         "6",
         "27",
         "Amy Curlew",
         "F",
         "6",
         "0.0",
         "2",
         "4",
         "23",
         "5.07"
        ],
        [
         "8",
         "18",
         "Taytum Clairmont",
         "F",
         "6",
         "1.0",
         "3",
         "21",
         "26",
         "5.11"
        ],
        [
         "11",
         "7",
         "Mackenzie MacNeil",
         "F",
         "6",
         "2.0",
         "1",
         "1",
         "24",
         "5.08"
        ],
        [
         "12",
         "12",
         "Emily Fluke",
         "F",
         "6",
         "1.0",
         "4",
         "4",
         "27",
         "5.07"
        ],
        [
         "13",
         "4",
         "Sarah Steele",
         "D",
         "6",
         "1.0",
         "4",
         "4",
         "25",
         "5.06"
        ],
        [
         "14",
         "23",
         "Megan Quinn",
         "D",
         "6",
         "1.0",
         "0",
         "0",
         "22",
         "5.05"
        ],
        [
         "15",
         "25",
         "Emma Greco",
         "D",
         "6",
         "0.0",
         "0",
         "0",
         "22",
         "5.08"
        ],
        [
         "16",
         "15",
         "Natalie Marcuzzi",
         "F",
         "6",
         "0.0",
         "0",
         "0",
         "27",
         "5.08"
        ],
        [
         "17",
         "91",
         "Jenna McParland",
         "F",
         "6",
         "0.0",
         "0",
         "0",
         "33",
         "5.08"
        ],
        [
         "20",
         "29",
         "Julie Allen",
         "F",
         "6",
         "0.0",
         "0",
         "0",
         "26",
         "5.07"
        ],
        [
         "21",
         "34",
         "Elaine Chuli",
         "G",
         "6",
         "0.0",
         "0",
         "0",
         "24",
         "5.11"
        ]
       ],
       "shape": {
        "columns": 9,
        "rows": 17
       }
      },
      "text/html": [
       "<div>\n",
       "<style scoped>\n",
       "    .dataframe tbody tr th:only-of-type {\n",
       "        vertical-align: middle;\n",
       "    }\n",
       "\n",
       "    .dataframe tbody tr th {\n",
       "        vertical-align: top;\n",
       "    }\n",
       "\n",
       "    .dataframe thead th {\n",
       "        text-align: right;\n",
       "    }\n",
       "</style>\n",
       "<table border=\"1\" class=\"dataframe\">\n",
       "  <thead>\n",
       "    <tr style=\"text-align: right;\">\n",
       "      <th></th>\n",
       "      <th>number</th>\n",
       "      <th>name</th>\n",
       "      <th>position</th>\n",
       "      <th>games_played</th>\n",
       "      <th>goals</th>\n",
       "      <th>assists</th>\n",
       "      <th>PIM</th>\n",
       "      <th>age</th>\n",
       "      <th>height</th>\n",
       "    </tr>\n",
       "  </thead>\n",
       "  <tbody>\n",
       "    <tr>\n",
       "      <th>0</th>\n",
       "      <td>13</td>\n",
       "      <td>Mikyla Grant-Mentis</td>\n",
       "      <td>F</td>\n",
       "      <td>6</td>\n",
       "      <td>5.0</td>\n",
       "      <td>4</td>\n",
       "      <td>4</td>\n",
       "      <td>22</td>\n",
       "      <td>5.08</td>\n",
       "    </tr>\n",
       "    <tr>\n",
       "      <th>1</th>\n",
       "      <td>44</td>\n",
       "      <td>Lindsay Eastwood</td>\n",
       "      <td>D</td>\n",
       "      <td>6</td>\n",
       "      <td>4.0</td>\n",
       "      <td>5</td>\n",
       "      <td>10</td>\n",
       "      <td>23</td>\n",
       "      <td>5.08</td>\n",
       "    </tr>\n",
       "    <tr>\n",
       "      <th>2</th>\n",
       "      <td>2</td>\n",
       "      <td>Taylor Woods</td>\n",
       "      <td>F</td>\n",
       "      <td>6</td>\n",
       "      <td>4.0</td>\n",
       "      <td>4</td>\n",
       "      <td>4</td>\n",
       "      <td>26</td>\n",
       "      <td>5.04</td>\n",
       "    </tr>\n",
       "    <tr>\n",
       "      <th>3</th>\n",
       "      <td>19</td>\n",
       "      <td>Brooke Boquist</td>\n",
       "      <td>F</td>\n",
       "      <td>6</td>\n",
       "      <td>2.0</td>\n",
       "      <td>2</td>\n",
       "      <td>2</td>\n",
       "      <td>24</td>\n",
       "      <td>5.03</td>\n",
       "    </tr>\n",
       "    <tr>\n",
       "      <th>4</th>\n",
       "      <td>67</td>\n",
       "      <td>Emma Woods</td>\n",
       "      <td>F</td>\n",
       "      <td>6</td>\n",
       "      <td>0.0</td>\n",
       "      <td>4</td>\n",
       "      <td>0</td>\n",
       "      <td>24</td>\n",
       "      <td>5.04</td>\n",
       "    </tr>\n",
       "    <tr>\n",
       "      <th>5</th>\n",
       "      <td>21</td>\n",
       "      <td>Breanne Wilson-Bennett</td>\n",
       "      <td>F</td>\n",
       "      <td>6</td>\n",
       "      <td>2.0</td>\n",
       "      <td>4</td>\n",
       "      <td>2</td>\n",
       "      <td>24</td>\n",
       "      <td>5.03</td>\n",
       "    </tr>\n",
       "    <tr>\n",
       "      <th>6</th>\n",
       "      <td>27</td>\n",
       "      <td>Amy Curlew</td>\n",
       "      <td>F</td>\n",
       "      <td>6</td>\n",
       "      <td>0.0</td>\n",
       "      <td>2</td>\n",
       "      <td>4</td>\n",
       "      <td>23</td>\n",
       "      <td>5.07</td>\n",
       "    </tr>\n",
       "    <tr>\n",
       "      <th>8</th>\n",
       "      <td>18</td>\n",
       "      <td>Taytum Clairmont</td>\n",
       "      <td>F</td>\n",
       "      <td>6</td>\n",
       "      <td>1.0</td>\n",
       "      <td>3</td>\n",
       "      <td>21</td>\n",
       "      <td>26</td>\n",
       "      <td>5.11</td>\n",
       "    </tr>\n",
       "    <tr>\n",
       "      <th>11</th>\n",
       "      <td>7</td>\n",
       "      <td>Mackenzie MacNeil</td>\n",
       "      <td>F</td>\n",
       "      <td>6</td>\n",
       "      <td>2.0</td>\n",
       "      <td>1</td>\n",
       "      <td>1</td>\n",
       "      <td>24</td>\n",
       "      <td>5.08</td>\n",
       "    </tr>\n",
       "    <tr>\n",
       "      <th>12</th>\n",
       "      <td>12</td>\n",
       "      <td>Emily Fluke</td>\n",
       "      <td>F</td>\n",
       "      <td>6</td>\n",
       "      <td>1.0</td>\n",
       "      <td>4</td>\n",
       "      <td>4</td>\n",
       "      <td>27</td>\n",
       "      <td>5.07</td>\n",
       "    </tr>\n",
       "    <tr>\n",
       "      <th>13</th>\n",
       "      <td>4</td>\n",
       "      <td>Sarah Steele</td>\n",
       "      <td>D</td>\n",
       "      <td>6</td>\n",
       "      <td>1.0</td>\n",
       "      <td>4</td>\n",
       "      <td>4</td>\n",
       "      <td>25</td>\n",
       "      <td>5.06</td>\n",
       "    </tr>\n",
       "    <tr>\n",
       "      <th>14</th>\n",
       "      <td>23</td>\n",
       "      <td>Megan Quinn</td>\n",
       "      <td>D</td>\n",
       "      <td>6</td>\n",
       "      <td>1.0</td>\n",
       "      <td>0</td>\n",
       "      <td>0</td>\n",
       "      <td>22</td>\n",
       "      <td>5.05</td>\n",
       "    </tr>\n",
       "    <tr>\n",
       "      <th>15</th>\n",
       "      <td>25</td>\n",
       "      <td>Emma Greco</td>\n",
       "      <td>D</td>\n",
       "      <td>6</td>\n",
       "      <td>0.0</td>\n",
       "      <td>0</td>\n",
       "      <td>0</td>\n",
       "      <td>22</td>\n",
       "      <td>5.08</td>\n",
       "    </tr>\n",
       "    <tr>\n",
       "      <th>16</th>\n",
       "      <td>15</td>\n",
       "      <td>Natalie Marcuzzi</td>\n",
       "      <td>F</td>\n",
       "      <td>6</td>\n",
       "      <td>0.0</td>\n",
       "      <td>0</td>\n",
       "      <td>0</td>\n",
       "      <td>27</td>\n",
       "      <td>5.08</td>\n",
       "    </tr>\n",
       "    <tr>\n",
       "      <th>17</th>\n",
       "      <td>91</td>\n",
       "      <td>Jenna McParland</td>\n",
       "      <td>F</td>\n",
       "      <td>6</td>\n",
       "      <td>0.0</td>\n",
       "      <td>0</td>\n",
       "      <td>0</td>\n",
       "      <td>33</td>\n",
       "      <td>5.08</td>\n",
       "    </tr>\n",
       "    <tr>\n",
       "      <th>20</th>\n",
       "      <td>29</td>\n",
       "      <td>Julie Allen</td>\n",
       "      <td>F</td>\n",
       "      <td>6</td>\n",
       "      <td>0.0</td>\n",
       "      <td>0</td>\n",
       "      <td>0</td>\n",
       "      <td>26</td>\n",
       "      <td>5.07</td>\n",
       "    </tr>\n",
       "    <tr>\n",
       "      <th>21</th>\n",
       "      <td>34</td>\n",
       "      <td>Elaine Chuli</td>\n",
       "      <td>G</td>\n",
       "      <td>6</td>\n",
       "      <td>0.0</td>\n",
       "      <td>0</td>\n",
       "      <td>0</td>\n",
       "      <td>24</td>\n",
       "      <td>5.11</td>\n",
       "    </tr>\n",
       "  </tbody>\n",
       "</table>\n",
       "</div>"
      ],
      "text/plain": [
       "    number                    name position  games_played  goals  assists  \\\n",
       "0       13     Mikyla Grant-Mentis        F             6    5.0        4   \n",
       "1       44        Lindsay Eastwood        D             6    4.0        5   \n",
       "2        2            Taylor Woods        F             6    4.0        4   \n",
       "3       19          Brooke Boquist        F             6    2.0        2   \n",
       "4       67              Emma Woods        F             6    0.0        4   \n",
       "5       21  Breanne Wilson-Bennett        F             6    2.0        4   \n",
       "6       27              Amy Curlew        F             6    0.0        2   \n",
       "8       18        Taytum Clairmont        F             6    1.0        3   \n",
       "11       7       Mackenzie MacNeil        F             6    2.0        1   \n",
       "12      12             Emily Fluke        F             6    1.0        4   \n",
       "13       4            Sarah Steele        D             6    1.0        4   \n",
       "14      23             Megan Quinn        D             6    1.0        0   \n",
       "15      25              Emma Greco        D             6    0.0        0   \n",
       "16      15        Natalie Marcuzzi        F             6    0.0        0   \n",
       "17      91         Jenna McParland        F             6    0.0        0   \n",
       "20      29             Julie Allen        F             6    0.0        0   \n",
       "21      34            Elaine Chuli        G             6    0.0        0   \n",
       "\n",
       "    PIM  age  height  \n",
       "0     4   22    5.08  \n",
       "1    10   23    5.08  \n",
       "2     4   26    5.04  \n",
       "3     2   24    5.03  \n",
       "4     0   24    5.04  \n",
       "5     2   24    5.03  \n",
       "6     4   23    5.07  \n",
       "8    21   26    5.11  \n",
       "11    1   24    5.08  \n",
       "12    4   27    5.07  \n",
       "13    4   25    5.06  \n",
       "14    0   22    5.05  \n",
       "15    0   22    5.08  \n",
       "16    0   27    5.08  \n",
       "17    0   33    5.08  \n",
       "20    0   26    5.07  \n",
       "21    0   24    5.11  "
      ]
     },
     "execution_count": 74,
     "metadata": {},
     "output_type": "execute_result"
    }
   ],
   "source": [
    "# ### Đối với một số hàng chỉ bị trùng \"số áo\" kết hợp để xử lý như sau\n",
    "df[df.number.duplicated()]\n",
    "\n",
    "df.drop_duplicates(subset=['number'])\n"
   ]
  }
 ],
 "metadata": {
  "kernelspec": {
   "display_name": ".venv",
   "language": "python",
   "name": "python3"
  },
  "language_info": {
   "codemirror_mode": {
    "name": "ipython",
    "version": 3
   },
   "file_extension": ".py",
   "mimetype": "text/x-python",
   "name": "python",
   "nbconvert_exporter": "python",
   "pygments_lexer": "ipython3",
   "version": "3.9.6"
  }
 },
 "nbformat": 4,
 "nbformat_minor": 5
}
