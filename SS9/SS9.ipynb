{
 "cells": [
  {
   "cell_type": "markdown",
   "id": "6859075e",
   "metadata": {},
   "source": [
    "# Buổi 9: Nhóm và sắp xếp dữ liệu\n",
    "- Biến đổi dữ liệu\n",
    "- Nhóm và sắp xếp dữ liệu\n",
    "- Xử lý các vấn đề với dữ liệu: thiếu dữ liệu, sai kiểu dữ liệu, trùng lặp dữ liệu, ...\n",
    "- Thực hành"
   ]
  },
  {
   "cell_type": "code",
   "execution_count": 20,
   "id": "a10d73e3",
   "metadata": {},
   "outputs": [
    {
     "name": "stdout",
     "output_type": "stream",
     "text": [
      "<class 'pandas.core.frame.DataFrame'>\n",
      "Index: 2640 entries, 1 to 2540\n",
      "Data columns (total 6 columns):\n",
      " #   Column               Non-Null Count  Dtype  \n",
      "---  ------               --------------  -----  \n",
      " 0   Name                 2640 non-null   object \n",
      " 1   Net Worth            2640 non-null   object \n",
      " 2   Age                  2576 non-null   float64\n",
      " 3   Country | Territory  2640 non-null   object \n",
      " 4   Source               2640 non-null   object \n",
      " 5   Industry             2640 non-null   object \n",
      "dtypes: float64(1), object(5)\n",
      "memory usage: 144.4+ KB\n"
     ]
    },
    {
     "data": {
      "application/vnd.microsoft.datawrangler.viewer.v0+json": {
       "columns": [
        {
         "name": "Rank",
         "rawType": "int64",
         "type": "integer"
        },
        {
         "name": "Name",
         "rawType": "object",
         "type": "string"
        },
        {
         "name": "Net Worth",
         "rawType": "float64",
         "type": "float"
        },
        {
         "name": "Age",
         "rawType": "Int64",
         "type": "integer"
        },
        {
         "name": "Country | Territory",
         "rawType": "object",
         "type": "string"
        },
        {
         "name": "Source",
         "rawType": "object",
         "type": "string"
        },
        {
         "name": "Industry",
         "rawType": "object",
         "type": "string"
        }
       ],
       "ref": "00562962-d122-476f-b16a-5179d2eb7250",
       "rows": [
        [
         "1",
         "Bernard Arnault & family",
         "211.0",
         "74",
         "France",
         "LVMH",
         "Fashion & Retail"
        ],
        [
         "2",
         "Elon Musk",
         "180.0",
         "51",
         "United States",
         "Tesla, SpaceX",
         "Automotive"
        ],
        [
         "3",
         "Jeff Bezos",
         "114.0",
         "59",
         "United States",
         "Amazon",
         "Technology"
        ],
        [
         "4",
         "Larry Ellison",
         "107.0",
         "78",
         "United States",
         "Oracle",
         "Technology"
        ],
        [
         "5",
         "Warren Buffett",
         "106.0",
         "92",
         "United States",
         "Berkshire Hathaway",
         "Finance & Investments"
        ]
       ],
       "shape": {
        "columns": 6,
        "rows": 5
       }
      },
      "text/html": [
       "<div>\n",
       "<style scoped>\n",
       "    .dataframe tbody tr th:only-of-type {\n",
       "        vertical-align: middle;\n",
       "    }\n",
       "\n",
       "    .dataframe tbody tr th {\n",
       "        vertical-align: top;\n",
       "    }\n",
       "\n",
       "    .dataframe thead th {\n",
       "        text-align: right;\n",
       "    }\n",
       "</style>\n",
       "<table border=\"1\" class=\"dataframe\">\n",
       "  <thead>\n",
       "    <tr style=\"text-align: right;\">\n",
       "      <th></th>\n",
       "      <th>Name</th>\n",
       "      <th>Net Worth</th>\n",
       "      <th>Age</th>\n",
       "      <th>Country | Territory</th>\n",
       "      <th>Source</th>\n",
       "      <th>Industry</th>\n",
       "    </tr>\n",
       "    <tr>\n",
       "      <th>Rank</th>\n",
       "      <th></th>\n",
       "      <th></th>\n",
       "      <th></th>\n",
       "      <th></th>\n",
       "      <th></th>\n",
       "      <th></th>\n",
       "    </tr>\n",
       "  </thead>\n",
       "  <tbody>\n",
       "    <tr>\n",
       "      <th>1</th>\n",
       "      <td>Bernard Arnault &amp; family</td>\n",
       "      <td>211.0</td>\n",
       "      <td>74</td>\n",
       "      <td>France</td>\n",
       "      <td>LVMH</td>\n",
       "      <td>Fashion &amp; Retail</td>\n",
       "    </tr>\n",
       "    <tr>\n",
       "      <th>2</th>\n",
       "      <td>Elon Musk</td>\n",
       "      <td>180.0</td>\n",
       "      <td>51</td>\n",
       "      <td>United States</td>\n",
       "      <td>Tesla, SpaceX</td>\n",
       "      <td>Automotive</td>\n",
       "    </tr>\n",
       "    <tr>\n",
       "      <th>3</th>\n",
       "      <td>Jeff Bezos</td>\n",
       "      <td>114.0</td>\n",
       "      <td>59</td>\n",
       "      <td>United States</td>\n",
       "      <td>Amazon</td>\n",
       "      <td>Technology</td>\n",
       "    </tr>\n",
       "    <tr>\n",
       "      <th>4</th>\n",
       "      <td>Larry Ellison</td>\n",
       "      <td>107.0</td>\n",
       "      <td>78</td>\n",
       "      <td>United States</td>\n",
       "      <td>Oracle</td>\n",
       "      <td>Technology</td>\n",
       "    </tr>\n",
       "    <tr>\n",
       "      <th>5</th>\n",
       "      <td>Warren Buffett</td>\n",
       "      <td>106.0</td>\n",
       "      <td>92</td>\n",
       "      <td>United States</td>\n",
       "      <td>Berkshire Hathaway</td>\n",
       "      <td>Finance &amp; Investments</td>\n",
       "    </tr>\n",
       "  </tbody>\n",
       "</table>\n",
       "</div>"
      ],
      "text/plain": [
       "                          Name  Net Worth  Age Country | Territory  \\\n",
       "Rank                                                                 \n",
       "1     Bernard Arnault & family      211.0   74              France   \n",
       "2                    Elon Musk      180.0   51       United States   \n",
       "3                   Jeff Bezos      114.0   59       United States   \n",
       "4                Larry Ellison      107.0   78       United States   \n",
       "5               Warren Buffett      106.0   92       United States   \n",
       "\n",
       "                  Source               Industry  \n",
       "Rank                                             \n",
       "1                   LVMH       Fashion & Retail  \n",
       "2          Tesla, SpaceX             Automotive  \n",
       "3                 Amazon             Technology  \n",
       "4                 Oracle             Technology  \n",
       "5     Berkshire Hathaway  Finance & Investments  "
      ]
     },
     "execution_count": 20,
     "metadata": {},
     "output_type": "execute_result"
    }
   ],
   "source": [
    "import pandas as pd\n",
    "\n",
    "def clean_networth(networth): # loại bỏ phần tử đầu - cuối: $ B\n",
    "    return networth[1:-1]\n",
    "    \n",
    "\n",
    "df = pd.read_csv('./Billionaires.csv', index_col=[0])\n",
    "df.info() # lấy thông tin dữ liệu\n",
    "\n",
    "df['Net Worth'] = df['Net Worth'].apply(clean_networth)\n",
    "df['Net Worth'] = pd.to_numeric(df['Net Worth']) # chuyển từ string => Float\n",
    "\n",
    "## Biến đổi dữ liệu cho cột age\n",
    "df['Age'] = df['Age'].astype('Int64')\n",
    "df.head()"
   ]
  },
  {
   "cell_type": "markdown",
   "id": "19292bb2",
   "metadata": {},
   "source": [
    "Biến đổi dữ liệu cột 'Net Worth' từ string => float"
   ]
  },
  {
   "cell_type": "markdown",
   "id": "b6e3c03b",
   "metadata": {},
   "source": [
    "Tổng tài sản lớn nhất của các tỉ phú nằm ở những lĩnh vực nào?"
   ]
  },
  {
   "cell_type": "code",
   "execution_count": null,
   "id": "49a852ab",
   "metadata": {},
   "outputs": [
    {
     "data": {
      "application/vnd.microsoft.datawrangler.viewer.v0+json": {
       "columns": [
        {
         "name": "Industry",
         "rawType": "object",
         "type": "string"
        },
        {
         "name": "Net Worth",
         "rawType": "float64",
         "type": "float"
        }
       ],
       "ref": "90a0c02e-9553-48ff-a2c1-032abacf6f96",
       "rows": [
        [
         "Technology",
         "1871.0"
        ],
        [
         "Fashion & Retail",
         "1698.8"
        ],
        [
         "Finance & Investments",
         "1605.1"
        ],
        [
         "Manufacturing",
         "1025.9"
        ],
        [
         "Food & Beverage",
         "957.2"
        ],
        [
         "Diversified",
         "905.2"
        ],
        [
         "Real Estate",
         "657.4"
        ],
        [
         "Healthcare",
         "643.2"
        ],
        [
         "Automotive",
         "525.3"
        ],
        [
         "Energy",
         "453.5"
        ],
        [
         "Metals & Mining",
         "446.8"
        ],
        [
         "Media & Entertainment",
         "427.5"
        ],
        [
         "Logistics",
         "239.5"
        ],
        [
         "Telecom",
         "203.5"
        ],
        [
         "Service",
         "173.4"
        ],
        [
         "Sports",
         "134.5"
        ],
        [
         "Gambling & Casinos",
         "120.5"
        ],
        [
         "Construction & Engineering",
         "118.5"
        ]
       ],
       "shape": {
        "columns": 1,
        "rows": 18
       }
      },
      "text/html": [
       "<div>\n",
       "<style scoped>\n",
       "    .dataframe tbody tr th:only-of-type {\n",
       "        vertical-align: middle;\n",
       "    }\n",
       "\n",
       "    .dataframe tbody tr th {\n",
       "        vertical-align: top;\n",
       "    }\n",
       "\n",
       "    .dataframe thead th {\n",
       "        text-align: right;\n",
       "    }\n",
       "</style>\n",
       "<table border=\"1\" class=\"dataframe\">\n",
       "  <thead>\n",
       "    <tr style=\"text-align: right;\">\n",
       "      <th></th>\n",
       "      <th>Net Worth</th>\n",
       "    </tr>\n",
       "    <tr>\n",
       "      <th>Industry</th>\n",
       "      <th></th>\n",
       "    </tr>\n",
       "  </thead>\n",
       "  <tbody>\n",
       "    <tr>\n",
       "      <th>Technology</th>\n",
       "      <td>1871.0</td>\n",
       "    </tr>\n",
       "    <tr>\n",
       "      <th>Fashion &amp; Retail</th>\n",
       "      <td>1698.8</td>\n",
       "    </tr>\n",
       "    <tr>\n",
       "      <th>Finance &amp; Investments</th>\n",
       "      <td>1605.1</td>\n",
       "    </tr>\n",
       "    <tr>\n",
       "      <th>Manufacturing</th>\n",
       "      <td>1025.9</td>\n",
       "    </tr>\n",
       "    <tr>\n",
       "      <th>Food &amp; Beverage</th>\n",
       "      <td>957.2</td>\n",
       "    </tr>\n",
       "    <tr>\n",
       "      <th>Diversified</th>\n",
       "      <td>905.2</td>\n",
       "    </tr>\n",
       "    <tr>\n",
       "      <th>Real Estate</th>\n",
       "      <td>657.4</td>\n",
       "    </tr>\n",
       "    <tr>\n",
       "      <th>Healthcare</th>\n",
       "      <td>643.2</td>\n",
       "    </tr>\n",
       "    <tr>\n",
       "      <th>Automotive</th>\n",
       "      <td>525.3</td>\n",
       "    </tr>\n",
       "    <tr>\n",
       "      <th>Energy</th>\n",
       "      <td>453.5</td>\n",
       "    </tr>\n",
       "    <tr>\n",
       "      <th>Metals &amp; Mining</th>\n",
       "      <td>446.8</td>\n",
       "    </tr>\n",
       "    <tr>\n",
       "      <th>Media &amp; Entertainment</th>\n",
       "      <td>427.5</td>\n",
       "    </tr>\n",
       "    <tr>\n",
       "      <th>Logistics</th>\n",
       "      <td>239.5</td>\n",
       "    </tr>\n",
       "    <tr>\n",
       "      <th>Telecom</th>\n",
       "      <td>203.5</td>\n",
       "    </tr>\n",
       "    <tr>\n",
       "      <th>Service</th>\n",
       "      <td>173.4</td>\n",
       "    </tr>\n",
       "    <tr>\n",
       "      <th>Sports</th>\n",
       "      <td>134.5</td>\n",
       "    </tr>\n",
       "    <tr>\n",
       "      <th>Gambling &amp; Casinos</th>\n",
       "      <td>120.5</td>\n",
       "    </tr>\n",
       "    <tr>\n",
       "      <th>Construction &amp; Engineering</th>\n",
       "      <td>118.5</td>\n",
       "    </tr>\n",
       "  </tbody>\n",
       "</table>\n",
       "</div>"
      ],
      "text/plain": [
       "                            Net Worth\n",
       "Industry                             \n",
       "Technology                     1871.0\n",
       "Fashion & Retail               1698.8\n",
       "Finance & Investments          1605.1\n",
       "Manufacturing                  1025.9\n",
       "Food & Beverage                 957.2\n",
       "Diversified                     905.2\n",
       "Real Estate                     657.4\n",
       "Healthcare                      643.2\n",
       "Automotive                      525.3\n",
       "Energy                          453.5\n",
       "Metals & Mining                 446.8\n",
       "Media & Entertainment           427.5\n",
       "Logistics                       239.5\n",
       "Telecom                         203.5\n",
       "Service                         173.4\n",
       "Sports                          134.5\n",
       "Gambling & Casinos              120.5\n",
       "Construction & Engineering      118.5"
      ]
     },
     "execution_count": 26,
     "metadata": {},
     "output_type": "execute_result"
    }
   ],
   "source": [
    "df_industry = df[['Industry', 'Net Worth']].groupby('Industry').sum() # trả về đối tượng DF Groupby\n",
    "# Sx theo thứ tự \n",
    "df_industry = df_industry.sort_values(by='Net Worth', ascending=False) # từ lớn => nhỏ (ngược lại là true)\n",
    "df_industry\n"
   ]
  },
  {
   "cell_type": "markdown",
   "id": "b54da2a8",
   "metadata": {},
   "source": [
    "Thực hành: Tính trung bình tài sản các tỷ phú theo châu lục\n",
    "- Chưa có cột châu lục?\n",
    "- Cần biến đổi từ cột: Country | Territory\n",
    "- Sử dụng thư viện và hàm hỗ trợ để tạo cột \"Continent\""
   ]
  },
  {
   "cell_type": "code",
   "execution_count": 34,
   "id": "66e99f65",
   "metadata": {},
   "outputs": [
    {
     "name": "stdout",
     "output_type": "stream",
     "text": [
      "Eswatini (Swaziland)\n"
     ]
    },
    {
     "data": {
      "application/vnd.microsoft.datawrangler.viewer.v0+json": {
       "columns": [
        {
         "name": "Continent",
         "rawType": "object",
         "type": "string"
        },
        {
         "name": "Net Worth",
         "rawType": "float64",
         "type": "float"
        }
       ],
       "ref": "529662d0-301f-4e7b-ac12-d0a57d3ba8f1",
       "rows": [
        [
         "Africa",
         "4.421052631578948"
        ],
        [
         "Asia",
         "3.5470643056849953"
        ],
        [
         "Europe",
         "4.85327868852459"
        ],
        [
         "North America",
         "6.025276073619632"
        ],
        [
         "Oceania",
         "3.924"
        ],
        [
         "South America",
         "3.375"
        ],
        [
         "unknown",
         "6.5"
        ]
       ],
       "shape": {
        "columns": 1,
        "rows": 7
       }
      },
      "text/html": [
       "<div>\n",
       "<style scoped>\n",
       "    .dataframe tbody tr th:only-of-type {\n",
       "        vertical-align: middle;\n",
       "    }\n",
       "\n",
       "    .dataframe tbody tr th {\n",
       "        vertical-align: top;\n",
       "    }\n",
       "\n",
       "    .dataframe thead th {\n",
       "        text-align: right;\n",
       "    }\n",
       "</style>\n",
       "<table border=\"1\" class=\"dataframe\">\n",
       "  <thead>\n",
       "    <tr style=\"text-align: right;\">\n",
       "      <th></th>\n",
       "      <th>Net Worth</th>\n",
       "    </tr>\n",
       "    <tr>\n",
       "      <th>Continent</th>\n",
       "      <th></th>\n",
       "    </tr>\n",
       "  </thead>\n",
       "  <tbody>\n",
       "    <tr>\n",
       "      <th>Africa</th>\n",
       "      <td>4.421053</td>\n",
       "    </tr>\n",
       "    <tr>\n",
       "      <th>Asia</th>\n",
       "      <td>3.547064</td>\n",
       "    </tr>\n",
       "    <tr>\n",
       "      <th>Europe</th>\n",
       "      <td>4.853279</td>\n",
       "    </tr>\n",
       "    <tr>\n",
       "      <th>North America</th>\n",
       "      <td>6.025276</td>\n",
       "    </tr>\n",
       "    <tr>\n",
       "      <th>Oceania</th>\n",
       "      <td>3.924000</td>\n",
       "    </tr>\n",
       "    <tr>\n",
       "      <th>South America</th>\n",
       "      <td>3.375000</td>\n",
       "    </tr>\n",
       "    <tr>\n",
       "      <th>unknown</th>\n",
       "      <td>6.500000</td>\n",
       "    </tr>\n",
       "  </tbody>\n",
       "</table>\n",
       "</div>"
      ],
      "text/plain": [
       "               Net Worth\n",
       "Continent               \n",
       "Africa          4.421053\n",
       "Asia            3.547064\n",
       "Europe          4.853279\n",
       "North America   6.025276\n",
       "Oceania         3.924000\n",
       "South America   3.375000\n",
       "unknown         6.500000"
      ]
     },
     "execution_count": 34,
     "metadata": {},
     "output_type": "execute_result"
    }
   ],
   "source": [
    "import pycountry_convert as pc\n",
    "\n",
    "def get_continent(country_name):\n",
    "    try: \n",
    "        country_code = pc.country_name_to_country_alpha2(country_name)\n",
    "        continent_code = pc.country_alpha2_to_continent_code(country_code)\n",
    "        continent_name = pc.convert_continent_code_to_continent_name(continent_code)\n",
    "        return continent_name\n",
    "    except:\n",
    "        print(country_name)\n",
    "        return 'unknown'\n",
    "    \n",
    "\n",
    "df['Continent'] = df['Country | Territory'].apply(get_continent)\n",
    "\n",
    "## Chỉ show 2 cột cần thôi\n",
    "df[['Net Worth', 'Continent']].groupby(\"Continent\").mean()\n",
    "\n",
    "## Nếu muốn tìm ra cái không xác định\n",
    "# df[df['Continent'] == 'unknown']"
   ]
  }
 ],
 "metadata": {
  "kernelspec": {
   "display_name": ".venv",
   "language": "python",
   "name": "python3"
  },
  "language_info": {
   "codemirror_mode": {
    "name": "ipython",
    "version": 3
   },
   "file_extension": ".py",
   "mimetype": "text/x-python",
   "name": "python",
   "nbconvert_exporter": "python",
   "pygments_lexer": "ipython3",
   "version": "3.9.6"
  }
 },
 "nbformat": 4,
 "nbformat_minor": 5
}
