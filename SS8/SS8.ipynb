{
 "cells": [
  {
   "cell_type": "markdown",
   "id": "67fc166d",
   "metadata": {},
   "source": [
    "# Buổi 8: Đọc là lọc dữ liệu"
   ]
  },
  {
   "cell_type": "code",
   "execution_count": null,
   "id": "c75ddf92",
   "metadata": {},
   "outputs": [
    {
     "name": "stdout",
     "output_type": "stream",
     "text": [
      "A     apple\n",
      "B    banana\n",
      "C    orange\n",
      "dtype: object\n"
     ]
    }
   ],
   "source": [
    "import pandas as pd\n",
    "\n",
    "# thay đổi chỉ số với index\n",
    "fruits = pd.Series([\"apple\", 'banana','orange'], index = ['A', 'B', 'C']) \n",
    "\n",
    "print(fruits)\n",
    "\n",
    "\n"
   ]
  },
  {
   "cell_type": "code",
   "execution_count": null,
   "id": "b9d92929",
   "metadata": {},
   "outputs": [
    {
     "name": "stdout",
     "output_type": "stream",
     "text": [
      "orange\n"
     ]
    }
   ],
   "source": [
    "## Khởi tạo Series từ 1 Dict\n",
    "\n",
    "fruits_dict = {\n",
    "    'A': 'apple',\n",
    "    'B': 'banana',\n",
    "    'C': 'orange',\n",
    "}\n",
    "\n",
    "# Tạo 1 Series từ 1 DICT\n",
    "fruits = pd.Series(fruits_dict)\n",
    "fruits\n",
    "\n"
   ]
  },
  {
   "cell_type": "markdown",
   "id": "ec7ca449",
   "metadata": {},
   "source": [
    "### Bài tập thực hành Series: Bài 1"
   ]
  },
  {
   "cell_type": "code",
   "execution_count": 6,
   "id": "90f2c438",
   "metadata": {},
   "outputs": [
    {
     "name": "stdout",
     "output_type": "stream",
     "text": [
      "51.166666666666664\n",
      "41.5\n",
      "0     37\n",
      "1     39\n",
      "2     41\n",
      "3     42\n",
      "4     48\n",
      "5    100\n",
      "dtype: int64\n"
     ]
    }
   ],
   "source": [
    "# khởi tạo bảng như yêu cầu\n",
    "Students_weight = {\n",
    "    'Hoa': 37,\n",
    "    'Nam': 48,\n",
    "    'Hải': 42,\n",
    "    'Linh': 39,\n",
    "    'Nhân': 41,\n",
    "    'Bảo': 100,\n",
    "}\n",
    "\n",
    "# Tạo 1 S từ Dict\n",
    "weights = pd.Series(Students_weight)\n",
    "print(weights.mean()) # Trung bình cộng\n",
    "print(weights.median()) # Sắp xếp danh sách và tìm phần tử ở giữa\n",
    "print(weights.mode()) # lệnh này trả về 1 Series khác (Phần tử xuất hiện nhiều lần nhất)\n"
   ]
  },
  {
   "cell_type": "markdown",
   "id": "920ba715",
   "metadata": {},
   "source": [
    "# Bài thực hành 2: Animals"
   ]
  },
  {
   "cell_type": "code",
   "execution_count": null,
   "id": "2b092820",
   "metadata": {},
   "outputs": [
    {
     "name": "stdout",
     "output_type": "stream",
     "text": [
      "        dong_vat  tuoi_tho         loai\n",
      "0         Sao la        25        có vú\n",
      "1  Khỉ đuôi ngắn        25  linh trưởng\n",
      "        dong_vat  tuoi_tho         loai\n",
      "1  Khỉ đuôi ngắn        25  linh trưởng\n",
      "2     Voi châu Á        70        có vú\n"
     ]
    }
   ],
   "source": [
    "# Khởi tạo dict animals\n",
    "animals = {\n",
    "    'dong_vat': ['Sao la', 'Khỉ đuôi ngắn', 'Voi châu Á'],\n",
    "    'tuoi_tho': [25, 25, 70],\n",
    "    'loai': ['có vú', 'linh trưởng', 'có vú'],\n",
    "}\n",
    "\n",
    "# Tạo DataFrame từ dict: animals\n",
    "df_animals = pd.DataFrame(animals)\n",
    "# df_animals.info()\n",
    "# print(df_animals.dtypes)\n",
    "# print(df_animals.shape)\n",
    "# print(df_animals.describe)\n",
    "# print(df_animals.head(2))\n",
    "# print(df_animals.tail(2))\n"
   ]
  },
  {
   "cell_type": "markdown",
   "id": "f754e60b",
   "metadata": {},
   "source": [
    "## Bài thực hành 3: Thao tác với file & Pandas"
   ]
  },
  {
   "cell_type": "code",
   "execution_count": 24,
   "id": "28fcba8b",
   "metadata": {},
   "outputs": [
    {
     "name": "stdout",
     "output_type": "stream",
     "text": [
      "   Name  Age         City\n",
      "0  John   30     New York\n",
      "1  Jane   25  Los Angeles\n",
      "2   Doe   35      Chicago\n"
     ]
    }
   ],
   "source": [
    "data = {\n",
    "    'Name': ['John', 'Jane', 'Doe'],\n",
    "    'Age': [30, 25, 35],\n",
    "    'City': ['New York', 'Los Angeles', 'Chicago']\n",
    "}\n",
    "\n",
    "# Tạo df bằng dict\n",
    "df = pd.DataFrame(data) \n",
    "\n",
    "# Viết file với lệnh df.to_csv()\n",
    "df.to_csv('./output.csv', index=False) # index: không viết chỉ mục trong file\n",
    "\n",
    "# Đọc file với lệnh: pd.read_csv()\n",
    "df_read = pd.read_csv('./output.csv')\n",
    "print(df_read)"
   ]
  },
  {
   "cell_type": "code",
   "execution_count": null,
   "id": "8c850838",
   "metadata": {},
   "outputs": [],
   "source": []
  },
  {
   "cell_type": "code",
   "execution_count": null,
   "id": "7c0b903c",
   "metadata": {},
   "outputs": [],
   "source": []
  }
 ],
 "metadata": {
  "kernelspec": {
   "display_name": ".venv",
   "language": "python",
   "name": "python3"
  },
  "language_info": {
   "codemirror_mode": {
    "name": "ipython",
    "version": 3
   },
   "file_extension": ".py",
   "mimetype": "text/x-python",
   "name": "python",
   "nbconvert_exporter": "python",
   "pygments_lexer": "ipython3",
   "version": "3.9.6"
  }
 },
 "nbformat": 4,
 "nbformat_minor": 5
}
