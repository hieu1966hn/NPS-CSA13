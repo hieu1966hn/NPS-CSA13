{
 "cells": [
  {
   "cell_type": "markdown",
   "id": "67fc166d",
   "metadata": {},
   "source": [
    "# Buổi 8: Đọc là lọc dữ liệu"
   ]
  },
  {
   "cell_type": "code",
   "execution_count": 3,
   "id": "c75ddf92",
   "metadata": {},
   "outputs": [
    {
     "name": "stdout",
     "output_type": "stream",
     "text": [
      "A     apple\n",
      "B    banana\n",
      "C    orange\n",
      "dtype: object\n"
     ]
    }
   ],
   "source": [
    "import pandas as pd\n",
    "\n",
    "# thay đổi chỉ số với index\n",
    "fruits = pd.Series([\"apple\", 'banana','orange'], index = ['A', 'B', 'C']) \n",
    "\n",
    "print(fruits)\n",
    "\n",
    "\n"
   ]
  },
  {
   "cell_type": "code",
   "execution_count": null,
   "id": "b9d92929",
   "metadata": {},
   "outputs": [
    {
     "name": "stdout",
     "output_type": "stream",
     "text": [
      "orange\n"
     ]
    }
   ],
   "source": [
    "## Khởi tạo Series từ 1 Dict\n",
    "\n",
    "fruits_dict = {\n",
    "    'A': 'apple',\n",
    "    'B': 'banana',\n",
    "    'C': 'orange',\n",
    "}\n",
    "\n",
    "# Tạo 1 Series từ 1 DICT\n",
    "fruits = pd.Series(fruits_dict)\n",
    "fruits\n",
    "\n"
   ]
  },
  {
   "cell_type": "markdown",
   "id": "ec7ca449",
   "metadata": {},
   "source": [
    "### Bài tập thực hành Series: Bài 1"
   ]
  },
  {
   "cell_type": "code",
   "execution_count": 6,
   "id": "90f2c438",
   "metadata": {},
   "outputs": [
    {
     "name": "stdout",
     "output_type": "stream",
     "text": [
      "51.166666666666664\n",
      "41.5\n",
      "0     37\n",
      "1     39\n",
      "2     41\n",
      "3     42\n",
      "4     48\n",
      "5    100\n",
      "dtype: int64\n"
     ]
    }
   ],
   "source": [
    "# khởi tạo bảng như yêu cầu\n",
    "Students_weight = {\n",
    "    'Hoa': 37,\n",
    "    'Nam': 48,\n",
    "    'Hải': 42,\n",
    "    'Linh': 39,\n",
    "    'Nhân': 41,\n",
    "    'Bảo': 100,\n",
    "}\n",
    "\n",
    "# Tạo 1 S từ Dict\n",
    "weights = pd.Series(Students_weight)\n",
    "print(weights.mean()) # Trung bình cộng\n",
    "print(weights.median()) # Sắp xếp danh sách và tìm phần tử ở giữa\n",
    "print(weights.mode()) # lệnh này trả về 1 Series khác (Phần tử xuất hiện nhiều lần nhất)\n"
   ]
  },
  {
   "cell_type": "markdown",
   "id": "920ba715",
   "metadata": {},
   "source": [
    "# Bài thực hành 2: Animals"
   ]
  },
  {
   "cell_type": "code",
   "execution_count": 6,
   "id": "2b092820",
   "metadata": {},
   "outputs": [],
   "source": [
    "# Khởi tạo dict animals\n",
    "animals = {\n",
    "    'dong_vat': ['Sao la', 'Khỉ đuôi ngắn', 'Voi châu Á'],\n",
    "    'tuoi_tho': [25, 25, 70],\n",
    "    'loai': ['có vú', 'linh trưởng', 'có vú'],\n",
    "}\n",
    "\n",
    "# Tạo DataFrame từ dict: animals\n",
    "df_animals = pd.DataFrame(animals)\n",
    "# df_animals.info()\n",
    "# print(df_animals.dtypes)\n",
    "# print(df_animals.shape)\n",
    "# print(df_animals.describe)\n",
    "# print(df_animals.head(2))\n",
    "# print(df_animals.tail(2))\n"
   ]
  },
  {
   "cell_type": "markdown",
   "id": "f754e60b",
   "metadata": {},
   "source": [
    "## Bài thực hành 3: Thao tác với file & Pandas"
   ]
  },
  {
   "cell_type": "code",
   "execution_count": 24,
   "id": "28fcba8b",
   "metadata": {},
   "outputs": [
    {
     "name": "stdout",
     "output_type": "stream",
     "text": [
      "   Name  Age         City\n",
      "0  John   30     New York\n",
      "1  Jane   25  Los Angeles\n",
      "2   Doe   35      Chicago\n"
     ]
    }
   ],
   "source": [
    "data = {\n",
    "    'Name': ['John', 'Jane', 'Doe'],\n",
    "    'Age': [30, 25, 35],\n",
    "    'City': ['New York', 'Los Angeles', 'Chicago']\n",
    "}\n",
    "\n",
    "# Tạo df bằng dict\n",
    "df = pd.DataFrame(data) \n",
    "\n",
    "# Viết file với lệnh df.to_csv()\n",
    "df.to_csv('./output.csv', index=False) # index: không viết chỉ mục trong file\n",
    "\n",
    "# Đọc file với lệnh: pd.read_csv()\n",
    "df_read = pd.read_csv('./output.csv')\n",
    "print(df_read)"
   ]
  },
  {
   "cell_type": "markdown",
   "id": "a01e5b4b",
   "metadata": {},
   "source": [
    "# Lựa chọn hàng và cột"
   ]
  },
  {
   "cell_type": "markdown",
   "id": "4a082d54",
   "metadata": {},
   "source": [
    "Để chọn hàng ta sử dụng: index slicing:"
   ]
  },
  {
   "cell_type": "code",
   "execution_count": null,
   "id": "0527bd9f",
   "metadata": {},
   "outputs": [
    {
     "data": {
      "application/vnd.microsoft.datawrangler.viewer.v0+json": {
       "columns": [
        {
         "name": "index",
         "rawType": "int64",
         "type": "integer"
        },
        {
         "name": "dong_vat",
         "rawType": "object",
         "type": "string"
        },
        {
         "name": "tuoi_tho",
         "rawType": "int64",
         "type": "integer"
        },
        {
         "name": "loai",
         "rawType": "object",
         "type": "string"
        }
       ],
       "ref": "679a716d-b163-4856-b7d4-80a43395c05d",
       "rows": [
        [
         "0",
         "Sao la",
         "25",
         "có vú"
        ],
        [
         "1",
         "Khỉ đuôi ngắn",
         "25",
         "linh trưởng"
        ]
       ],
       "shape": {
        "columns": 3,
        "rows": 2
       }
      },
      "text/html": [
       "<div>\n",
       "<style scoped>\n",
       "    .dataframe tbody tr th:only-of-type {\n",
       "        vertical-align: middle;\n",
       "    }\n",
       "\n",
       "    .dataframe tbody tr th {\n",
       "        vertical-align: top;\n",
       "    }\n",
       "\n",
       "    .dataframe thead th {\n",
       "        text-align: right;\n",
       "    }\n",
       "</style>\n",
       "<table border=\"1\" class=\"dataframe\">\n",
       "  <thead>\n",
       "    <tr style=\"text-align: right;\">\n",
       "      <th></th>\n",
       "      <th>dong_vat</th>\n",
       "      <th>tuoi_tho</th>\n",
       "      <th>loai</th>\n",
       "    </tr>\n",
       "  </thead>\n",
       "  <tbody>\n",
       "    <tr>\n",
       "      <th>0</th>\n",
       "      <td>Sao la</td>\n",
       "      <td>25</td>\n",
       "      <td>có vú</td>\n",
       "    </tr>\n",
       "    <tr>\n",
       "      <th>1</th>\n",
       "      <td>Khỉ đuôi ngắn</td>\n",
       "      <td>25</td>\n",
       "      <td>linh trưởng</td>\n",
       "    </tr>\n",
       "  </tbody>\n",
       "</table>\n",
       "</div>"
      ],
      "text/plain": [
       "        dong_vat  tuoi_tho         loai\n",
       "0         Sao la        25        có vú\n",
       "1  Khỉ đuôi ngắn        25  linh trưởng"
      ]
     },
     "execution_count": 10,
     "metadata": {},
     "output_type": "execute_result"
    }
   ],
   "source": [
    "df_animals[:2] # thao tác với df lấy ra số hàng mong muốn"
   ]
  },
  {
   "cell_type": "markdown",
   "id": "186a2b53",
   "metadata": {},
   "source": [
    "Để chọn cột: sử dụng ngoặc vuông giống với dict. Khi chọn một cột => kết quả trả về là một pandas Series\n"
   ]
  },
  {
   "cell_type": "code",
   "execution_count": null,
   "id": "38c323a6",
   "metadata": {},
   "outputs": [
    {
     "data": {
      "application/vnd.microsoft.datawrangler.viewer.v0+json": {
       "columns": [
        {
         "name": "index",
         "rawType": "int64",
         "type": "integer"
        },
        {
         "name": "dong_vat",
         "rawType": "object",
         "type": "string"
        },
        {
         "name": "tuoi_tho",
         "rawType": "int64",
         "type": "integer"
        }
       ],
       "ref": "b4ec70bd-b7cd-465d-a911-31a2506e5495",
       "rows": [
        [
         "0",
         "Sao la",
         "25"
        ],
        [
         "1",
         "Khỉ đuôi ngắn",
         "25"
        ],
        [
         "2",
         "Voi châu Á",
         "70"
        ]
       ],
       "shape": {
        "columns": 2,
        "rows": 3
       }
      },
      "text/html": [
       "<div>\n",
       "<style scoped>\n",
       "    .dataframe tbody tr th:only-of-type {\n",
       "        vertical-align: middle;\n",
       "    }\n",
       "\n",
       "    .dataframe tbody tr th {\n",
       "        vertical-align: top;\n",
       "    }\n",
       "\n",
       "    .dataframe thead th {\n",
       "        text-align: right;\n",
       "    }\n",
       "</style>\n",
       "<table border=\"1\" class=\"dataframe\">\n",
       "  <thead>\n",
       "    <tr style=\"text-align: right;\">\n",
       "      <th></th>\n",
       "      <th>dong_vat</th>\n",
       "      <th>tuoi_tho</th>\n",
       "    </tr>\n",
       "  </thead>\n",
       "  <tbody>\n",
       "    <tr>\n",
       "      <th>0</th>\n",
       "      <td>Sao la</td>\n",
       "      <td>25</td>\n",
       "    </tr>\n",
       "    <tr>\n",
       "      <th>1</th>\n",
       "      <td>Khỉ đuôi ngắn</td>\n",
       "      <td>25</td>\n",
       "    </tr>\n",
       "    <tr>\n",
       "      <th>2</th>\n",
       "      <td>Voi châu Á</td>\n",
       "      <td>70</td>\n",
       "    </tr>\n",
       "  </tbody>\n",
       "</table>\n",
       "</div>"
      ],
      "text/plain": [
       "        dong_vat  tuoi_tho\n",
       "0         Sao la        25\n",
       "1  Khỉ đuôi ngắn        25\n",
       "2     Voi châu Á        70"
      ]
     },
     "execution_count": 12,
     "metadata": {},
     "output_type": "execute_result"
    }
   ],
   "source": [
    "# df_animals['dong_vat']\n",
    "\n",
    "# chọn nhiều cột thì ta sử dụng danh sách các tên cột VD:\n",
    "df_animals[['dong_vat','tuoi_tho']]"
   ]
  },
  {
   "cell_type": "markdown",
   "id": "364a2a9c",
   "metadata": {},
   "source": [
    "Để thêm điều kiện khi lcọ, ta sử thêm toán tử logic như sau:"
   ]
  },
  {
   "cell_type": "code",
   "execution_count": 13,
   "id": "8b47273b",
   "metadata": {},
   "outputs": [
    {
     "data": {
      "application/vnd.microsoft.datawrangler.viewer.v0+json": {
       "columns": [
        {
         "name": "index",
         "rawType": "int64",
         "type": "integer"
        },
        {
         "name": "dong_vat",
         "rawType": "object",
         "type": "string"
        },
        {
         "name": "tuoi_tho",
         "rawType": "int64",
         "type": "integer"
        }
       ],
       "ref": "f7c136a9-0500-4e01-bf0c-a2c836d7e1a6",
       "rows": [
        [
         "0",
         "Sao la",
         "25"
        ],
        [
         "1",
         "Khỉ đuôi ngắn",
         "25"
        ]
       ],
       "shape": {
        "columns": 2,
        "rows": 2
       }
      },
      "text/html": [
       "<div>\n",
       "<style scoped>\n",
       "    .dataframe tbody tr th:only-of-type {\n",
       "        vertical-align: middle;\n",
       "    }\n",
       "\n",
       "    .dataframe tbody tr th {\n",
       "        vertical-align: top;\n",
       "    }\n",
       "\n",
       "    .dataframe thead th {\n",
       "        text-align: right;\n",
       "    }\n",
       "</style>\n",
       "<table border=\"1\" class=\"dataframe\">\n",
       "  <thead>\n",
       "    <tr style=\"text-align: right;\">\n",
       "      <th></th>\n",
       "      <th>dong_vat</th>\n",
       "      <th>tuoi_tho</th>\n",
       "    </tr>\n",
       "  </thead>\n",
       "  <tbody>\n",
       "    <tr>\n",
       "      <th>0</th>\n",
       "      <td>Sao la</td>\n",
       "      <td>25</td>\n",
       "    </tr>\n",
       "    <tr>\n",
       "      <th>1</th>\n",
       "      <td>Khỉ đuôi ngắn</td>\n",
       "      <td>25</td>\n",
       "    </tr>\n",
       "  </tbody>\n",
       "</table>\n",
       "</div>"
      ],
      "text/plain": [
       "        dong_vat  tuoi_tho\n",
       "0         Sao la        25\n",
       "1  Khỉ đuôi ngắn        25"
      ]
     },
     "execution_count": 13,
     "metadata": {},
     "output_type": "execute_result"
    }
   ],
   "source": [
    "age_data = df_animals[['dong_vat','tuoi_tho']]\n",
    "age_data[df_animals['tuoi_tho'] < 30]\n"
   ]
  },
  {
   "cell_type": "markdown",
   "id": "08795234",
   "metadata": {},
   "source": [
    "Để thay đổi cột dược chọn làm index, sử dụng phương thức set_index\n",
    "\n",
    "Để index trở lại thành số, sử dụng phương thức reset_index"
   ]
  },
  {
   "cell_type": "code",
   "execution_count": 48,
   "id": "a8e4c2e0",
   "metadata": {},
   "outputs": [
    {
     "data": {
      "application/vnd.microsoft.datawrangler.viewer.v0+json": {
       "columns": [
        {
         "name": "index",
         "rawType": "int64",
         "type": "integer"
        },
        {
         "name": "dong_vat",
         "rawType": "object",
         "type": "string"
        },
        {
         "name": "tuoi_tho",
         "rawType": "int64",
         "type": "integer"
        },
        {
         "name": "loai",
         "rawType": "object",
         "type": "string"
        }
       ],
       "ref": "3a556e6c-01af-4ece-8e02-a3bed2d54b0e",
       "rows": [
        [
         "0",
         "Sao la",
         "25",
         "có vú"
        ],
        [
         "1",
         "Khỉ đuôi ngắn",
         "25",
         "linh trưởng"
        ],
        [
         "2",
         "Voi châu Á",
         "70",
         "có vú"
        ]
       ],
       "shape": {
        "columns": 3,
        "rows": 3
       }
      },
      "text/html": [
       "<div>\n",
       "<style scoped>\n",
       "    .dataframe tbody tr th:only-of-type {\n",
       "        vertical-align: middle;\n",
       "    }\n",
       "\n",
       "    .dataframe tbody tr th {\n",
       "        vertical-align: top;\n",
       "    }\n",
       "\n",
       "    .dataframe thead th {\n",
       "        text-align: right;\n",
       "    }\n",
       "</style>\n",
       "<table border=\"1\" class=\"dataframe\">\n",
       "  <thead>\n",
       "    <tr style=\"text-align: right;\">\n",
       "      <th></th>\n",
       "      <th>dong_vat</th>\n",
       "      <th>tuoi_tho</th>\n",
       "      <th>loai</th>\n",
       "    </tr>\n",
       "  </thead>\n",
       "  <tbody>\n",
       "    <tr>\n",
       "      <th>0</th>\n",
       "      <td>Sao la</td>\n",
       "      <td>25</td>\n",
       "      <td>có vú</td>\n",
       "    </tr>\n",
       "    <tr>\n",
       "      <th>1</th>\n",
       "      <td>Khỉ đuôi ngắn</td>\n",
       "      <td>25</td>\n",
       "      <td>linh trưởng</td>\n",
       "    </tr>\n",
       "    <tr>\n",
       "      <th>2</th>\n",
       "      <td>Voi châu Á</td>\n",
       "      <td>70</td>\n",
       "      <td>có vú</td>\n",
       "    </tr>\n",
       "  </tbody>\n",
       "</table>\n",
       "</div>"
      ],
      "text/plain": [
       "        dong_vat  tuoi_tho         loai\n",
       "0         Sao la        25        có vú\n",
       "1  Khỉ đuôi ngắn        25  linh trưởng\n",
       "2     Voi châu Á        70        có vú"
      ]
     },
     "execution_count": 48,
     "metadata": {},
     "output_type": "execute_result"
    }
   ],
   "source": [
    "# df_animals.set_index('dong_vat', inplace=True)\n",
    "\n",
    "df_animals.reset_index()"
   ]
  },
  {
   "cell_type": "markdown",
   "id": "3bc1e624",
   "metadata": {},
   "source": [
    "Lọc dựa trên index: DF.iloc(rows, columns)\n",
    "iloc: lọc hàng và cột dựa trên vị trí chỉ số trong bảng. Cách hoạt động index trong iloc giống như index slicing trong Python"
   ]
  },
  {
   "cell_type": "code",
   "execution_count": 28,
   "id": "e895853c",
   "metadata": {},
   "outputs": [
    {
     "data": {
      "application/vnd.microsoft.datawrangler.viewer.v0+json": {
       "columns": [
        {
         "name": "dong_vat",
         "rawType": "object",
         "type": "string"
        },
        {
         "name": "loai",
         "rawType": "object",
         "type": "string"
        }
       ],
       "ref": "5de81a32-5482-4b4a-868a-34ba64b11c98",
       "rows": [
        [
         "Sao la",
         "có vú"
        ],
        [
         "Khỉ đuôi ngắn",
         "linh trưởng"
        ]
       ],
       "shape": {
        "columns": 1,
        "rows": 2
       }
      },
      "text/html": [
       "<div>\n",
       "<style scoped>\n",
       "    .dataframe tbody tr th:only-of-type {\n",
       "        vertical-align: middle;\n",
       "    }\n",
       "\n",
       "    .dataframe tbody tr th {\n",
       "        vertical-align: top;\n",
       "    }\n",
       "\n",
       "    .dataframe thead th {\n",
       "        text-align: right;\n",
       "    }\n",
       "</style>\n",
       "<table border=\"1\" class=\"dataframe\">\n",
       "  <thead>\n",
       "    <tr style=\"text-align: right;\">\n",
       "      <th></th>\n",
       "      <th>loai</th>\n",
       "    </tr>\n",
       "    <tr>\n",
       "      <th>dong_vat</th>\n",
       "      <th></th>\n",
       "    </tr>\n",
       "  </thead>\n",
       "  <tbody>\n",
       "    <tr>\n",
       "      <th>Sao la</th>\n",
       "      <td>có vú</td>\n",
       "    </tr>\n",
       "    <tr>\n",
       "      <th>Khỉ đuôi ngắn</th>\n",
       "      <td>linh trưởng</td>\n",
       "    </tr>\n",
       "  </tbody>\n",
       "</table>\n",
       "</div>"
      ],
      "text/plain": [
       "                      loai\n",
       "dong_vat                  \n",
       "Sao la               có vú\n",
       "Khỉ đuôi ngắn  linh trưởng"
      ]
     },
     "execution_count": 28,
     "metadata": {},
     "output_type": "execute_result"
    }
   ],
   "source": [
    "df_animals.iloc[:2, 1:3] "
   ]
  },
  {
   "cell_type": "markdown",
   "id": "29886523",
   "metadata": {},
   "source": [
    "Lọc dựa trên nhãn: "
   ]
  },
  {
   "cell_type": "code",
   "execution_count": 50,
   "id": "4630edb1",
   "metadata": {},
   "outputs": [
    {
     "data": {
      "application/vnd.microsoft.datawrangler.viewer.v0+json": {
       "columns": [
        {
         "name": "dong_vat",
         "rawType": "object",
         "type": "string"
        },
        {
         "name": "tuoi_tho",
         "rawType": "int64",
         "type": "integer"
        },
        {
         "name": "loai",
         "rawType": "object",
         "type": "string"
        }
       ],
       "ref": "e671de3b-cd28-4385-890e-f1b7fbe1a3b3",
       "rows": [
        [
         "Voi châu Á",
         "70",
         "có vú"
        ]
       ],
       "shape": {
        "columns": 2,
        "rows": 1
       }
      },
      "text/html": [
       "<div>\n",
       "<style scoped>\n",
       "    .dataframe tbody tr th:only-of-type {\n",
       "        vertical-align: middle;\n",
       "    }\n",
       "\n",
       "    .dataframe tbody tr th {\n",
       "        vertical-align: top;\n",
       "    }\n",
       "\n",
       "    .dataframe thead th {\n",
       "        text-align: right;\n",
       "    }\n",
       "</style>\n",
       "<table border=\"1\" class=\"dataframe\">\n",
       "  <thead>\n",
       "    <tr style=\"text-align: right;\">\n",
       "      <th></th>\n",
       "      <th>tuoi_tho</th>\n",
       "      <th>loai</th>\n",
       "    </tr>\n",
       "    <tr>\n",
       "      <th>dong_vat</th>\n",
       "      <th></th>\n",
       "      <th></th>\n",
       "    </tr>\n",
       "  </thead>\n",
       "  <tbody>\n",
       "    <tr>\n",
       "      <th>Voi châu Á</th>\n",
       "      <td>70</td>\n",
       "      <td>có vú</td>\n",
       "    </tr>\n",
       "  </tbody>\n",
       "</table>\n",
       "</div>"
      ],
      "text/plain": [
       "            tuoi_tho   loai\n",
       "dong_vat                   \n",
       "Voi châu Á        70  có vú"
      ]
     },
     "execution_count": 50,
     "metadata": {},
     "output_type": "execute_result"
    }
   ],
   "source": [
    "# df_animals.loc[['Sao la', 'Khỉ đuôi ngắn'], 'tuoi_tho':'loai']\n",
    "# df_animals.loc[df_animals.tuoi_tho > 50, 'tuoi_tho':'loai']\n",
    "df_animals.loc[df_animals['tuoi_tho'] > 50, 'tuoi_tho':'loai']"
   ]
  }
 ],
 "metadata": {
  "kernelspec": {
   "display_name": ".venv",
   "language": "python",
   "name": "python3"
  },
  "language_info": {
   "codemirror_mode": {
    "name": "ipython",
    "version": 3
   },
   "file_extension": ".py",
   "mimetype": "text/x-python",
   "name": "python",
   "nbconvert_exporter": "python",
   "pygments_lexer": "ipython3",
   "version": "3.9.6"
  }
 },
 "nbformat": 4,
 "nbformat_minor": 5
}
